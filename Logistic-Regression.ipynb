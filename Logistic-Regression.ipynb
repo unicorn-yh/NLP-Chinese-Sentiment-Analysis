{
 "cells": [
  {
   "cell_type": "code",
   "execution_count": 1,
   "metadata": {},
   "outputs": [],
   "source": [
    "from sklearn.model_selection import train_test_split\n",
    "import numpy as np\n",
    "import pandas as pd\n",
    "import collections\n",
    "train_set_num, test_set_num = 500,500"
   ]
  },
  {
   "cell_type": "code",
   "execution_count": 2,
   "metadata": {},
   "outputs": [],
   "source": [
    "def concate_files(file1,file2,final_file):\n",
    "      data = data2 = \"\"\n",
    "      with open(file1, 'r', encoding='utf-8') as fp:  # Reading data from file1\n",
    "            sentences = fp.readlines()\n",
    "            for sentence in sentences[:train_set_num]:\n",
    "                  data += sentence\n",
    "      with open(file2, 'r', encoding='utf-8') as fp:  # Reading data from file2\n",
    "            sentences = fp.readlines()\n",
    "            for sentence in sentences[:test_set_num]:\n",
    "                  data2 += sentence\n",
    "      data += data2  # To add the data of file2\n",
    "      with open (final_file, 'w', encoding='utf-8') as fp:\n",
    "            fp.write(data)\n",
    "concate_files('data/total/pos.txt','data/total/neg.txt','data/total/labeled_text.txt')"
   ]
  },
  {
   "cell_type": "code",
   "execution_count": 3,
   "metadata": {},
   "outputs": [
    {
     "name": "stderr",
     "output_type": "stream",
     "text": [
      "d:\\Downloads\\python3.7\\lib\\site-packages\\pandas\\util\\_decorators.py:311: ParserWarning: Falling back to the 'python' engine because the 'c' engine does not support regex separators (separators > 1 char and different from '\\s+' are interpreted as regex); you can avoid this warning by specifying engine='python'.\n",
      "  return func(*args, **kwargs)\n"
     ]
    },
    {
     "data": {
      "text/html": [
       "<div>\n",
       "<style scoped>\n",
       "    .dataframe tbody tr th:only-of-type {\n",
       "        vertical-align: middle;\n",
       "    }\n",
       "\n",
       "    .dataframe tbody tr th {\n",
       "        vertical-align: top;\n",
       "    }\n",
       "\n",
       "    .dataframe thead th {\n",
       "        text-align: right;\n",
       "    }\n",
       "</style>\n",
       "<table border=\"1\" class=\"dataframe\">\n",
       "  <thead>\n",
       "    <tr style=\"text-align: right;\">\n",
       "      <th></th>\n",
       "      <th>Label</th>\n",
       "      <th>Text</th>\n",
       "    </tr>\n",
       "  </thead>\n",
       "  <tbody>\n",
       "    <tr>\n",
       "      <th>0</th>\n",
       "      <td>1</td>\n",
       "      <td>距离川沙公路较近,但是公交指示不对,如果是\"蔡陆线\"的话,会非常麻烦.建议用别的路线.房间较...</td>\n",
       "    </tr>\n",
       "    <tr>\n",
       "      <th>1</th>\n",
       "      <td>1</td>\n",
       "      <td>商务大床房，房间很大，床有2M宽，整体感觉经济实惠不错!</td>\n",
       "    </tr>\n",
       "    <tr>\n",
       "      <th>2</th>\n",
       "      <td>1</td>\n",
       "      <td>早餐太差，无论去多少人，那边也不加食品的。酒店应该重视一下这个问题了。房间本身很好。</td>\n",
       "    </tr>\n",
       "    <tr>\n",
       "      <th>3</th>\n",
       "      <td>1</td>\n",
       "      <td>宾馆在小街道上，不大好找，但还好北京热心同胞很多~宾馆设施跟介绍的差不多，房间很小，确实挺小...</td>\n",
       "    </tr>\n",
       "    <tr>\n",
       "      <th>4</th>\n",
       "      <td>1</td>\n",
       "      <td>CBD中心,周围没什么店铺,说5星有点勉强.不知道为什么卫生间没有电吹风</td>\n",
       "    </tr>\n",
       "  </tbody>\n",
       "</table>\n",
       "</div>"
      ],
      "text/plain": [
       "   Label                                               Text\n",
       "0      1  距离川沙公路较近,但是公交指示不对,如果是\"蔡陆线\"的话,会非常麻烦.建议用别的路线.房间较...\n",
       "1      1                       商务大床房，房间很大，床有2M宽，整体感觉经济实惠不错!\n",
       "2      1         早餐太差，无论去多少人，那边也不加食品的。酒店应该重视一下这个问题了。房间本身很好。\n",
       "3      1  宾馆在小街道上，不大好找，但还好北京热心同胞很多~宾馆设施跟介绍的差不多，房间很小，确实挺小...\n",
       "4      1               CBD中心,周围没什么店铺,说5星有点勉强.不知道为什么卫生间没有电吹风"
      ]
     },
     "execution_count": 3,
     "metadata": {},
     "output_type": "execute_result"
    }
   ],
   "source": [
    "data = pd.read_csv('data/total/labeled_text.txt', header = None, delimiter='    ',encoding='utf-8',names=['Label', 'Text'])\n",
    "data.head()"
   ]
  },
  {
   "cell_type": "code",
   "execution_count": 4,
   "metadata": {},
   "outputs": [
    {
     "data": {
      "text/plain": [
       "pandas.core.frame.DataFrame"
      ]
     },
     "execution_count": 4,
     "metadata": {},
     "output_type": "execute_result"
    }
   ],
   "source": [
    "type(data)"
   ]
  },
  {
   "cell_type": "code",
   "execution_count": 5,
   "metadata": {},
   "outputs": [
    {
     "data": {
      "text/plain": [
       "array([ 1, -1], dtype=int64)"
      ]
     },
     "execution_count": 5,
     "metadata": {},
     "output_type": "execute_result"
    }
   ],
   "source": [
    "data.Label.unique()"
   ]
  },
  {
   "cell_type": "code",
   "execution_count": 6,
   "metadata": {},
   "outputs": [
    {
     "data": {
      "text/plain": [
       "(1000, 2)"
      ]
     },
     "execution_count": 6,
     "metadata": {},
     "output_type": "execute_result"
    }
   ],
   "source": [
    "data.shape"
   ]
  },
  {
   "cell_type": "code",
   "execution_count": 7,
   "metadata": {},
   "outputs": [
    {
     "data": {
      "text/html": [
       "<div>\n",
       "<style scoped>\n",
       "    .dataframe tbody tr th:only-of-type {\n",
       "        vertical-align: middle;\n",
       "    }\n",
       "\n",
       "    .dataframe tbody tr th {\n",
       "        vertical-align: top;\n",
       "    }\n",
       "\n",
       "    .dataframe thead th {\n",
       "        text-align: right;\n",
       "    }\n",
       "</style>\n",
       "<table border=\"1\" class=\"dataframe\">\n",
       "  <thead>\n",
       "    <tr style=\"text-align: right;\">\n",
       "      <th></th>\n",
       "      <th>Label</th>\n",
       "      <th>Text</th>\n",
       "      <th>Positive</th>\n",
       "      <th>Negative</th>\n",
       "    </tr>\n",
       "  </thead>\n",
       "  <tbody>\n",
       "    <tr>\n",
       "      <th>0</th>\n",
       "      <td>1</td>\n",
       "      <td>距离川沙公路较近,但是公交指示不对,如果是\"蔡陆线\"的话,会非常麻烦.建议用别的路线.房间较...</td>\n",
       "      <td>1</td>\n",
       "      <td>0</td>\n",
       "    </tr>\n",
       "    <tr>\n",
       "      <th>1</th>\n",
       "      <td>1</td>\n",
       "      <td>商务大床房，房间很大，床有2M宽，整体感觉经济实惠不错!</td>\n",
       "      <td>1</td>\n",
       "      <td>0</td>\n",
       "    </tr>\n",
       "    <tr>\n",
       "      <th>2</th>\n",
       "      <td>1</td>\n",
       "      <td>早餐太差，无论去多少人，那边也不加食品的。酒店应该重视一下这个问题了。房间本身很好。</td>\n",
       "      <td>1</td>\n",
       "      <td>0</td>\n",
       "    </tr>\n",
       "    <tr>\n",
       "      <th>3</th>\n",
       "      <td>1</td>\n",
       "      <td>宾馆在小街道上，不大好找，但还好北京热心同胞很多~宾馆设施跟介绍的差不多，房间很小，确实挺小...</td>\n",
       "      <td>1</td>\n",
       "      <td>0</td>\n",
       "    </tr>\n",
       "    <tr>\n",
       "      <th>4</th>\n",
       "      <td>1</td>\n",
       "      <td>CBD中心,周围没什么店铺,说5星有点勉强.不知道为什么卫生间没有电吹风</td>\n",
       "      <td>1</td>\n",
       "      <td>0</td>\n",
       "    </tr>\n",
       "  </tbody>\n",
       "</table>\n",
       "</div>"
      ],
      "text/plain": [
       "   Label                                               Text  Positive  \\\n",
       "0      1  距离川沙公路较近,但是公交指示不对,如果是\"蔡陆线\"的话,会非常麻烦.建议用别的路线.房间较...         1   \n",
       "1      1                       商务大床房，房间很大，床有2M宽，整体感觉经济实惠不错!         1   \n",
       "2      1         早餐太差，无论去多少人，那边也不加食品的。酒店应该重视一下这个问题了。房间本身很好。         1   \n",
       "3      1  宾馆在小街道上，不大好找，但还好北京热心同胞很多~宾馆设施跟介绍的差不多，房间很小，确实挺小...         1   \n",
       "4      1               CBD中心,周围没什么店铺,说5星有点勉强.不知道为什么卫生间没有电吹风         1   \n",
       "\n",
       "   Negative  \n",
       "0         0  \n",
       "1         0  \n",
       "2         0  \n",
       "3         0  \n",
       "4         0  "
      ]
     },
     "execution_count": 7,
     "metadata": {},
     "output_type": "execute_result"
    }
   ],
   "source": [
    "#Assign Label to each sentence\n",
    "pos = []\n",
    "neg = []\n",
    "for label in data.Label:\n",
    "    if label == -1:        #negative\n",
    "        pos.append(0)\n",
    "        neg.append(1)\n",
    "    elif label == 1:      #positive\n",
    "        pos.append(1)\n",
    "        neg.append(0)\n",
    "data['Positive']= pos\n",
    "data['Negative']= neg\n",
    "data.head()"
   ]
  },
  {
   "cell_type": "code",
   "execution_count": 8,
   "metadata": {},
   "outputs": [],
   "source": [
    "stopword_ls = []\n",
    "def getStopWord():\n",
    "    with open('lib/stopwords_utf8.txt', 'r',encoding='UTF-8') as file:\n",
    "        for line in file:\n",
    "            stopword_ls.append(line.split('\\n')[0])\n",
    "getStopWord()\n",
    "\n",
    "def isStopWord(word):\n",
    "    for i in range(len(stopword_ls)):\n",
    "        if word == stopword_ls[i]:\n",
    "            return True\n",
    "    return False"
   ]
  },
  {
   "cell_type": "code",
   "execution_count": 9,
   "metadata": {},
   "outputs": [
    {
     "name": "stderr",
     "output_type": "stream",
     "text": [
      "d:\\Downloads\\python3.7\\lib\\random.py:278: SettingWithCopyWarning: \n",
      "A value is trying to be set on a copy of a slice from a DataFrame\n",
      "\n",
      "See the caveats in the documentation: https://pandas.pydata.org/pandas-docs/stable/user_guide/indexing.html#returning-a-view-versus-a-copy\n",
      "  x[i], x[j] = x[j], x[i]\n"
     ]
    },
    {
     "data": {
      "text/html": [
       "<div>\n",
       "<style scoped>\n",
       "    .dataframe tbody tr th:only-of-type {\n",
       "        vertical-align: middle;\n",
       "    }\n",
       "\n",
       "    .dataframe tbody tr th {\n",
       "        vertical-align: top;\n",
       "    }\n",
       "\n",
       "    .dataframe thead th {\n",
       "        text-align: right;\n",
       "    }\n",
       "</style>\n",
       "<table border=\"1\" class=\"dataframe\">\n",
       "  <thead>\n",
       "    <tr style=\"text-align: right;\">\n",
       "      <th></th>\n",
       "      <th>Label</th>\n",
       "      <th>Text</th>\n",
       "      <th>Positive</th>\n",
       "      <th>Negative</th>\n",
       "      <th>Segmented_Text</th>\n",
       "    </tr>\n",
       "  </thead>\n",
       "  <tbody>\n",
       "    <tr>\n",
       "      <th>0</th>\n",
       "      <td>1</td>\n",
       "      <td>很怀疑五星酒店的评价标准。三星都不如，很失望！</td>\n",
       "      <td>1</td>\n",
       "      <td>0</td>\n",
       "      <td>[怀疑, 五星, 酒店, 评价, 标准, 星, 失望]</td>\n",
       "    </tr>\n",
       "    <tr>\n",
       "      <th>1</th>\n",
       "      <td>1</td>\n",
       "      <td>客观地说，这个酒店不怎么样。列出来大家参考：一、晚上八点半到的，没看到门童；二、没有吹风机，...</td>\n",
       "      <td>1</td>\n",
       "      <td>0</td>\n",
       "      <td>[客观, 说, 酒店, 列, 参考, 晚上, 八点半, 门, 童, 吹风, 机, 网线, 收...</td>\n",
       "    </tr>\n",
       "    <tr>\n",
       "      <th>2</th>\n",
       "      <td>1</td>\n",
       "      <td>物超所值,此次我们是订的三个房间。感慨中西部的服务有时比发达地区好多了。宾馆反馈2008年8...</td>\n",
       "      <td>1</td>\n",
       "      <td>0</td>\n",
       "      <td>[物, 超所值, 是订, 房间, 感慨, 中西部, 服务, 发达, 地区, 宾馆, 反馈, ...</td>\n",
       "    </tr>\n",
       "    <tr>\n",
       "      <th>3</th>\n",
       "      <td>1</td>\n",
       "      <td>完全达不到四星标准,前台小姐臭着一张脸,南楼的服务小姐还是瞒热情的.被子有一股怪味,洗手间地...</td>\n",
       "      <td>1</td>\n",
       "      <td>0</td>\n",
       "      <td>[达, 四星, 标准, 前台, 小姐, 张, 脸, 南楼, 服务, 小姐, 瞒, 热情, 被...</td>\n",
       "    </tr>\n",
       "    <tr>\n",
       "      <th>4</th>\n",
       "      <td>1</td>\n",
       "      <td>刚才提到的如家快捷酒店，应该是如家深圳火车站店，在渔民村小区内。</td>\n",
       "      <td>1</td>\n",
       "      <td>0</td>\n",
       "      <td>[提到, 的如家, 快捷, 酒店, 如家, 深圳, 火车站, 店, 渔民, 村, 小区]</td>\n",
       "    </tr>\n",
       "  </tbody>\n",
       "</table>\n",
       "</div>"
      ],
      "text/plain": [
       "   Label                                               Text  Positive  \\\n",
       "0      1                            很怀疑五星酒店的评价标准。三星都不如，很失望！         1   \n",
       "1      1  客观地说，这个酒店不怎么样。列出来大家参考：一、晚上八点半到的，没看到门童；二、没有吹风机，...         1   \n",
       "2      1  物超所值,此次我们是订的三个房间。感慨中西部的服务有时比发达地区好多了。宾馆反馈2008年8...         1   \n",
       "3      1  完全达不到四星标准,前台小姐臭着一张脸,南楼的服务小姐还是瞒热情的.被子有一股怪味,洗手间地...         1   \n",
       "4      1                   刚才提到的如家快捷酒店，应该是如家深圳火车站店，在渔民村小区内。         1   \n",
       "\n",
       "   Negative                                     Segmented_Text  \n",
       "0         0                        [怀疑, 五星, 酒店, 评价, 标准, 星, 失望]  \n",
       "1         0  [客观, 说, 酒店, 列, 参考, 晚上, 八点半, 门, 童, 吹风, 机, 网线, 收...  \n",
       "2         0  [物, 超所值, 是订, 房间, 感慨, 中西部, 服务, 发达, 地区, 宾馆, 反馈, ...  \n",
       "3         0  [达, 四星, 标准, 前台, 小姐, 张, 脸, 南楼, 服务, 小姐, 瞒, 热情, 被...  \n",
       "4         0       [提到, 的如家, 快捷, 酒店, 如家, 深圳, 火车站, 店, 渔民, 村, 小区]  "
      ]
     },
     "execution_count": 9,
     "metadata": {},
     "output_type": "execute_result"
    }
   ],
   "source": [
    "import jieba\n",
    "from snownlp import SnowNLP\n",
    "import random\n",
    "\n",
    "def jieba_segment(text):\n",
    "    word_ls = []\n",
    "    tmp_ls = list(jieba.cut(text, cut_all=False))   #segmentation\n",
    "    for i in range(len(tmp_ls)):\n",
    "        if not isStopWord(tmp_ls[i]):\n",
    "            word_ls.append(tmp_ls[i]) \n",
    "    return word_ls\n",
    "\n",
    "def snow_segment(text):\n",
    "    word_ls = []\n",
    "    tmp_ls = SnowNLP(text).words  #segmentation  \n",
    "    for i in range(len(tmp_ls)):\n",
    "        if not isStopWord(tmp_ls[i]):\n",
    "            word_ls.append(tmp_ls[i]) \n",
    "    return word_ls\n",
    "\n",
    "random.shuffle(data['Text'])\n",
    "#data['Segmented_Text'] = data['Text'].apply(lambda x: jieba_segment(x))\n",
    "data['Segmented_Text'] = data['Text'].apply(lambda x: snow_segment(x))\n",
    "data.head()"
   ]
  },
  {
   "cell_type": "code",
   "execution_count": 10,
   "metadata": {},
   "outputs": [
    {
     "data": {
      "text/html": [
       "<div>\n",
       "<style scoped>\n",
       "    .dataframe tbody tr th:only-of-type {\n",
       "        vertical-align: middle;\n",
       "    }\n",
       "\n",
       "    .dataframe tbody tr th {\n",
       "        vertical-align: top;\n",
       "    }\n",
       "\n",
       "    .dataframe thead th {\n",
       "        text-align: right;\n",
       "    }\n",
       "</style>\n",
       "<table border=\"1\" class=\"dataframe\">\n",
       "  <thead>\n",
       "    <tr style=\"text-align: right;\">\n",
       "      <th></th>\n",
       "      <th>Segmented_Text</th>\n",
       "      <th>Label</th>\n",
       "    </tr>\n",
       "  </thead>\n",
       "  <tbody>\n",
       "    <tr>\n",
       "      <th>0</th>\n",
       "      <td>[怀疑, 五星, 酒店, 评价, 标准, 星, 失望]</td>\n",
       "      <td>1</td>\n",
       "    </tr>\n",
       "    <tr>\n",
       "      <th>1</th>\n",
       "      <td>[客观, 说, 酒店, 列, 参考, 晚上, 八点半, 门, 童, 吹风, 机, 网线, 收...</td>\n",
       "      <td>1</td>\n",
       "    </tr>\n",
       "    <tr>\n",
       "      <th>2</th>\n",
       "      <td>[物, 超所值, 是订, 房间, 感慨, 中西部, 服务, 发达, 地区, 宾馆, 反馈, ...</td>\n",
       "      <td>1</td>\n",
       "    </tr>\n",
       "    <tr>\n",
       "      <th>3</th>\n",
       "      <td>[达, 四星, 标准, 前台, 小姐, 张, 脸, 南楼, 服务, 小姐, 瞒, 热情, 被...</td>\n",
       "      <td>1</td>\n",
       "    </tr>\n",
       "    <tr>\n",
       "      <th>4</th>\n",
       "      <td>[提到, 的如家, 快捷, 酒店, 如家, 深圳, 火车站, 店, 渔民, 村, 小区]</td>\n",
       "      <td>1</td>\n",
       "    </tr>\n",
       "  </tbody>\n",
       "</table>\n",
       "</div>"
      ],
      "text/plain": [
       "                                      Segmented_Text  Label\n",
       "0                        [怀疑, 五星, 酒店, 评价, 标准, 星, 失望]      1\n",
       "1  [客观, 说, 酒店, 列, 参考, 晚上, 八点半, 门, 童, 吹风, 机, 网线, 收...      1\n",
       "2  [物, 超所值, 是订, 房间, 感慨, 中西部, 服务, 发达, 地区, 宾馆, 反馈, ...      1\n",
       "3  [达, 四星, 标准, 前台, 小姐, 张, 脸, 南楼, 服务, 小姐, 瞒, 热情, 被...      1\n",
       "4       [提到, 的如家, 快捷, 酒店, 如家, 深圳, 火车站, 店, 渔民, 村, 小区]      1"
      ]
     },
     "execution_count": 10,
     "metadata": {},
     "output_type": "execute_result"
    }
   ],
   "source": [
    "#Assign Label to each sentence\n",
    "PosNegLabel = []\n",
    "for label in data.Label:\n",
    "    if label == -1:        #negative\n",
    "        PosNegLabel.append(0)\n",
    "    elif label == 1:      #positive\n",
    "        PosNegLabel.append(1)\n",
    "data['Label']= PosNegLabel\n",
    "data = data[['Segmented_Text','Label']]\n",
    "data.head()"
   ]
  },
  {
   "cell_type": "code",
   "execution_count": 11,
   "metadata": {},
   "outputs": [],
   "source": [
    "data_train, data_test = train_test_split(data, test_size=0.20)"
   ]
  },
  {
   "cell_type": "code",
   "execution_count": 12,
   "metadata": {},
   "outputs": [
    {
     "name": "stdout",
     "output_type": "stream",
     "text": [
      "TRAIN DATASET | Total Words:33676 | Total Vocabulary:6061 | Max Sentence Length:578\n",
      "TEST  DATASET | Total Words:7544  | Total Vocabulary:2611 | Max Sentence Length:374\n"
     ]
    }
   ],
   "source": [
    "all_training_words = [word for tokens in data_train[\"Segmented_Text\"] for word in tokens]\n",
    "training_sentence_lengths = [len(tokens) for tokens in data_train[\"Segmented_Text\"]]\n",
    "TRAINING_VOCAB = sorted(list(set(all_training_words)))\n",
    "print(\"TRAIN DATASET | Total Words:{} | Total Vocabulary:{} | Max Sentence Length:{}\".format(len(all_training_words),len(TRAINING_VOCAB),max(training_sentence_lengths)))\n",
    "\n",
    "all_test_words = [word for tokens in data_test[\"Segmented_Text\"] for word in tokens]\n",
    "test_sentence_lengths = [len(tokens) for tokens in data_test[\"Segmented_Text\"]]\n",
    "TEST_VOCAB = sorted(list(set(all_test_words)))\n",
    "print(\"TEST  DATASET | Total Words:{}  | Total Vocabulary:{} | Max Sentence Length:{}\" .format(len(all_test_words),len(TEST_VOCAB),max(test_sentence_lengths)))"
   ]
  },
  {
   "cell_type": "code",
   "execution_count": 13,
   "metadata": {},
   "outputs": [
    {
     "name": "stdout",
     "output_type": "stream",
     "text": [
      "6061 Vocabularies\n",
      "Top 10 Vocabularies:\n"
     ]
    },
    {
     "data": {
      "text/plain": [
       "[('酒店', 958),\n",
       " ('房间', 743),\n",
       " ('住', 505),\n",
       " ('服务', 452),\n",
       " ('不错', 343),\n",
       " ('说', 323),\n",
       " ('差', 264),\n",
       " ('太', 250),\n",
       " ('房', 234),\n",
       " ('前台', 228)]"
      ]
     },
     "execution_count": 13,
     "metadata": {},
     "output_type": "execute_result"
    }
   ],
   "source": [
    "#Setting up Vocabulary Dict\n",
    "vocab = collections.Counter()\n",
    "for twit in data_train.Segmented_Text:\n",
    "    for word in twit:\n",
    "        vocab[word] += 1\n",
    "vocab_len = len(vocab)  \n",
    "print(vocab_len,'Vocabularies')\n",
    "print('Top 10 Vocabularies:')\n",
    "vocab_ls = list(vocab)\n",
    "vocab.most_common(10)"
   ]
  },
  {
   "cell_type": "code",
   "execution_count": 14,
   "metadata": {},
   "outputs": [
    {
     "name": "stdout",
     "output_type": "stream",
     "text": [
      "Getting Train Dataset Word2vec: 800/800 | Vector Shape: (800, 6061)\n",
      "Getting Test Dataset Word2vec: 200/200 | Vector Shape: (200, 6061)\n"
     ]
    }
   ],
   "source": [
    "length = len(data_train.Segmented_Text)\n",
    "word2vec_train = np.zeros([length,vocab_len])\n",
    "k = 0\n",
    "for twit in data_train.Segmented_Text:\n",
    "      k += 1\n",
    "      if k == length:\n",
    "            end_val = ' | '\n",
    "      else:\n",
    "            end_val = '\\r'\n",
    "      print('Getting Train Dataset Word2vec: {}/{}'.format(k,length),end=end_val)\n",
    "      for i in range(len(twit)):\n",
    "            for j in range(vocab_len):\n",
    "                  if twit[i] == vocab_ls[j]:\n",
    "                        #word2vec_train[k-1][j] = 1*vocab[vocab_ls[j]]/vocab_len\n",
    "                        word2vec_train[k-1][j] = 1\n",
    "print('Vector Shape:',word2vec_train.shape)\n",
    "\n",
    "length = len(data_test.Segmented_Text)\n",
    "word2vec_test = np.zeros([length,vocab_len])\n",
    "k = 0\n",
    "for twit in data_test.Segmented_Text:\n",
    "      k += 1\n",
    "      if k == length:\n",
    "            end_val = ' | '\n",
    "      else:\n",
    "            end_val = '\\r'\n",
    "      print('Getting Test Dataset Word2vec: {}/{}'.format(k,length),end=end_val)\n",
    "      for i in range(len(twit)):\n",
    "            for j in range(vocab_len):\n",
    "                  if twit[i] == vocab_ls[j]:\n",
    "                        #word2vec_test[k-1][j] = 1*vocab[vocab_ls[j]]/vocab_len\n",
    "                        word2vec_test[k-1][j] = 1\n",
    "print('Vector Shape:', word2vec_test.shape)\n"
   ]
  },
  {
   "cell_type": "code",
   "execution_count": 15,
   "metadata": {},
   "outputs": [],
   "source": [
    "def preprocess(data_vector):  #data:list | vocab:torchtext.legacy.vocab.Vocab\n",
    "    max_l = 6000  \n",
    "    def set_same_length(x):   #将每条评论通过截断或者补0，使得长度变成500\n",
    "        return x[:max_l] if len(x) > max_l else x + [0] * (max_l - len(x))  \n",
    "    features = [set_same_length(words) for words in data_vector]\n",
    "    return np.array(features)"
   ]
  },
  {
   "cell_type": "code",
   "execution_count": 16,
   "metadata": {},
   "outputs": [],
   "source": [
    "X_train, X_test = preprocess(word2vec_train), preprocess(word2vec_test)\n",
    "y_train, y_test = np.array(data_train['Label']), np.array(data_test['Label'])"
   ]
  },
  {
   "cell_type": "code",
   "execution_count": 17,
   "metadata": {},
   "outputs": [
    {
     "name": "stdout",
     "output_type": "stream",
     "text": [
      "Importing Logistic Regression Model\n",
      "Coefficients: [[ 0.38495213 -0.46222621 -0.06424346 ... -0.05512011 -0.05512011\n",
      "  -0.05512011]]\n",
      "Train Accuracy Score: 0.9225\n",
      "Test Accuracy Score: 0.5\n"
     ]
    }
   ],
   "source": [
    "print('Importing Logistic Regression Model')\n",
    "from sklearn.linear_model import LogisticRegression\n",
    "from sklearn.metrics import classification_report, confusion_matrix\n",
    "log = LogisticRegression(solver='liblinear', random_state=0)\n",
    "log.fit(X_train,y_train)\n",
    "# regression coefficients\n",
    "print('Coefficients:', log.coef_)\n",
    "print('Train Accuracy Score: {}'.format(log.score(X_train, y_train)))\n",
    "print('Test Accuracy Score: {}'.format(log.score(X_test, y_test)))"
   ]
  },
  {
   "cell_type": "code",
   "execution_count": 18,
   "metadata": {},
   "outputs": [
    {
     "data": {
      "image/png": "[encoded data removed]",
      "text/plain": [
       "<Figure size 800x800 with 1 Axes>"
      ]
     },
     "metadata": {},
     "output_type": "display_data"
    }
   ],
   "source": [
    "import matplotlib.pyplot as plt\n",
    "cm = confusion_matrix(y_test, log.predict(X_test))\n",
    "fig, ax = plt.subplots(figsize=(8, 8))\n",
    "ax.imshow(cm)\n",
    "ax.grid(False)\n",
    "ax.xaxis.set(ticks=(0, 1), ticklabels=('Predicted 1', 'Predicted 0'))\n",
    "ax.yaxis.set(ticks=(0, 1), ticklabels=('Actual 1', 'Actual 0'))\n",
    "ax.set_ylim(1.5, -0.5)\n",
    "for i in range(2):\n",
    "    for j in range(2):\n",
    "        ax.text(j, i, cm[i, j], ha='center', va='center', color='white')\n",
    "plt.show()"
   ]
  },
  {
   "cell_type": "code",
   "execution_count": 19,
   "metadata": {},
   "outputs": [
    {
     "name": "stdout",
     "output_type": "stream",
     "text": [
      "              precision    recall  f1-score   support\n",
      "\n",
      "           0       0.53      0.46      0.49       106\n",
      "           1       0.47      0.54      0.50        94\n",
      "\n",
      "    accuracy                           0.50       200\n",
      "   macro avg       0.50      0.50      0.50       200\n",
      "weighted avg       0.50      0.50      0.50       200\n",
      "\n"
     ]
    }
   ],
   "source": [
    "print(classification_report(y_test, log.predict(X_test)))"
   ]
  },
  {
   "cell_type": "code",
   "execution_count": 20,
   "metadata": {},
   "outputs": [
    {
     "data": {
      "text/html": [
       "<div class=\"bk-root\">\n",
       "        <a href=\"https://bokeh.org\" target=\"_blank\" class=\"bk-logo bk-logo-small bk-logo-notebook\"></a>\n",
       "        <span id=\"1002\">Loading BokehJS ...</span>\n",
       "    </div>\n"
      ]
     },
     "metadata": {},
     "output_type": "display_data"
    },
    {
     "data": {
      "application/javascript": "(function(root) {\n  function now() {\n    return new Date();\n  }\n\n  const force = true;\n\n  if (typeof root._bokeh_onload_callbacks === \"undefined\" || force === true) {\n    root._bokeh_onload_callbacks = [];\n    root._bokeh_is_loading = undefined;\n  }\n\nconst JS_MIME_TYPE = 'application/javascript';\n  const HTML_MIME_TYPE = 'text/html';\n  const EXEC_MIME_TYPE = 'application/vnd.bokehjs_exec.v0+json';\n  const CLASS_NAME = 'output_bokeh rendered_html';\n\n  /**\n   * Render data to the DOM node\n   */\n  function render(props, node) {\n    const script = document.createElement(\"script\");\n    node.appendChild(script);\n  }\n\n  /**\n   * Handle when an output is cleared or removed\n   */\n  function handleClearOutput(event, handle) {\n    const cell = handle.cell;\n\n    const id = cell.output_area._bokeh_element_id;\n    const server_id = cell.output_area._bokeh_server_id;\n    // Clean up Bokeh references\n    if (id != null && id in Bokeh.index) {\n      Bokeh.index[id].model.document.clear();\n      delete Bokeh.index[id];\n    }\n\n    if (server_id !== undefined) {\n      // Clean up Bokeh references\n      const cmd_clean = \"from bokeh.io.state import curstate; print(curstate().uuid_to_server['\" + server_id + \"'].get_sessions()[0].document.roots[0]._id)\";\n      cell.notebook.kernel.execute(cmd_clean, {\n        iopub: {\n          output: function(msg) {\n            const id = msg.content.text.trim();\n            if (id in Bokeh.index) {\n              Bokeh.index[id].model.document.clear();\n              delete Bokeh.index[id];\n            }\n          }\n        }\n      });\n      // Destroy server and session\n      const cmd_destroy = \"import bokeh.io.notebook as ion; ion.destroy_server('\" + server_id + \"')\";\n      cell.notebook.kernel.execute(cmd_destroy);\n    }\n  }\n\n  /**\n   * Handle when a new output is added\n   */\n  function handleAddOutput(event, handle) {\n    const output_area = handle.output_area;\n    const output = handle.output;\n\n    // limit handleAddOutput to display_data with EXEC_MIME_TYPE content only\n    if ((output.output_type != \"display_data\") || (!Object.prototype.hasOwnProperty.call(output.data, EXEC_MIME_TYPE))) {\n      return\n    }\n\n    const toinsert = output_area.element.find(\".\" + CLASS_NAME.split(' ')[0]);\n\n    if (output.metadata[EXEC_MIME_TYPE][\"id\"] !== undefined) {\n      toinsert[toinsert.length - 1].firstChild.textContent = output.data[JS_MIME_TYPE];\n      // store reference to embed id on output_area\n      output_area._bokeh_element_id = output.metadata[EXEC_MIME_TYPE][\"id\"];\n    }\n    if (output.metadata[EXEC_MIME_TYPE][\"server_id\"] !== undefined) {\n      const bk_div = document.createElement(\"div\");\n      bk_div.innerHTML = output.data[HTML_MIME_TYPE];\n      const script_attrs = bk_div.children[0].attributes;\n      for (let i = 0; i < script_attrs.length; i++) {\n        toinsert[toinsert.length - 1].firstChild.setAttribute(script_attrs[i].name, script_attrs[i].value);\n        toinsert[toinsert.length - 1].firstChild.textContent = bk_div.children[0].textContent\n      }\n      // store reference to server id on output_area\n      output_area._bokeh_server_id = output.metadata[EXEC_MIME_TYPE][\"server_id\"];\n    }\n  }\n\n  function register_renderer(events, OutputArea) {\n\n    function append_mime(data, metadata, element) {\n      // create a DOM node to render to\n      const toinsert = this.create_output_subarea(\n        metadata,\n        CLASS_NAME,\n        EXEC_MIME_TYPE\n      );\n      this.keyboard_manager.register_events(toinsert);\n      // Render to node\n      const props = {data: data, metadata: metadata[EXEC_MIME_TYPE]};\n      render(props, toinsert[toinsert.length - 1]);\n      element.append(toinsert);\n      return toinsert\n    }\n\n    /* Handle when an output is cleared or removed */\n    events.on('clear_output.CodeCell', handleClearOutput);\n    events.on('delete.Cell', handleClearOutput);\n\n    /* Handle when a new output is added */\n    events.on('output_added.OutputArea', handleAddOutput);\n\n    /**\n     * Register the mime type and append_mime function with output_area\n     */\n    OutputArea.prototype.register_mime_type(EXEC_MIME_TYPE, append_mime, {\n      /* Is output safe? */\n      safe: true,\n      /* Index of renderer in `output_area.display_order` */\n      index: 0\n    });\n  }\n\n  // register the mime type if in Jupyter Notebook environment and previously unregistered\n  if (root.Jupyter !== undefined) {\n    const events = require('base/js/events');\n    const OutputArea = require('notebook/js/outputarea').OutputArea;\n\n    if (OutputArea.prototype.mime_types().indexOf(EXEC_MIME_TYPE) == -1) {\n      register_renderer(events, OutputArea);\n    }\n  }\n  if (typeof (root._bokeh_timeout) === \"undefined\" || force === true) {\n    root._bokeh_timeout = Date.now() + 5000;\n    root._bokeh_failed_load = false;\n  }\n\n  const NB_LOAD_WARNING = {'data': {'text/html':\n     \"<div style='background-color: #fdd'>\\n\"+\n     \"<p>\\n\"+\n     \"BokehJS does not appear to have successfully loaded. If loading BokehJS from CDN, this \\n\"+\n     \"may be due to a slow or bad network connection. Possible fixes:\\n\"+\n     \"</p>\\n\"+\n     \"<ul>\\n\"+\n     \"<li>re-rerun `output_notebook()` to attempt to load from CDN again, or</li>\\n\"+\n     \"<li>use INLINE resources instead, as so:</li>\\n\"+\n     \"</ul>\\n\"+\n     \"<code>\\n\"+\n     \"from bokeh.resources import INLINE\\n\"+\n     \"output_notebook(resources=INLINE)\\n\"+\n     \"</code>\\n\"+\n     \"</div>\"}};\n\n  function display_loaded() {\n    const el = document.getElementById(\"1002\");\n    if (el != null) {\n      el.textContent = \"BokehJS is loading...\";\n    }\n    if (root.Bokeh !== undefined) {\n      if (el != null) {\n        el.textContent = \"BokehJS \" + root.Bokeh.version + \" successfully loaded.\";\n      }\n    } else if (Date.now() < root._bokeh_timeout) {\n      setTimeout(display_loaded, 100)\n    }\n  }\n\n  function run_callbacks() {\n    try {\n      root._bokeh_onload_callbacks.forEach(function(callback) {\n        if (callback != null)\n          callback();\n      });\n    } finally {\n      delete root._bokeh_onload_callbacks\n    }\n    console.debug(\"Bokeh: all callbacks have finished\");\n  }\n\n  function load_libs(css_urls, js_urls, callback) {\n    if (css_urls == null) css_urls = [];\n    if (js_urls == null) js_urls = [];\n\n    root._bokeh_onload_callbacks.push(callback);\n    if (root._bokeh_is_loading > 0) {\n      console.debug(\"Bokeh: BokehJS is being loaded, scheduling callback at\", now());\n      return null;\n    }\n    if (js_urls == null || js_urls.length === 0) {\n      run_callbacks();\n      return null;\n    }\n    console.debug(\"Bokeh: BokehJS not loaded, scheduling load and callback at\", now());\n    root._bokeh_is_loading = css_urls.length + js_urls.length;\n\n    function on_load() {\n      root._bokeh_is_loading--;\n      if (root._bokeh_is_loading === 0) {\n        console.debug(\"Bokeh: all BokehJS libraries/stylesheets loaded\");\n        run_callbacks()\n      }\n    }\n\n    function on_error(url) {\n      console.error(\"failed to load \" + url);\n    }\n\n    for (let i = 0; i < css_urls.length; i++) {\n      const url = css_urls[i];\n      const element = document.createElement(\"link\");\n      element.onload = on_load;\n      element.onerror = on_error.bind(null, url);\n      element.rel = \"stylesheet\";\n      element.type = \"text/css\";\n      element.href = url;\n      console.debug(\"Bokeh: injecting link tag for BokehJS stylesheet: \", url);\n      document.body.appendChild(element);\n    }\n\n    for (let i = 0; i < js_urls.length; i++) {\n      const url = js_urls[i];\n      const element = document.createElement('script');\n      element.onload = on_load;\n      element.onerror = on_error.bind(null, url);\n      element.async = false;\n      element.src = url;\n      console.debug(\"Bokeh: injecting script tag for BokehJS library: \", url);\n      document.head.appendChild(element);\n    }\n  };\n\n  function inject_raw_css(css) {\n    const element = document.createElement(\"style\");\n    element.appendChild(document.createTextNode(css));\n    document.body.appendChild(element);\n  }\n\n  const js_urls = [\"https://cdn.bokeh.org/bokeh/release/bokeh-2.4.3.min.js\", \"https://cdn.bokeh.org/bokeh/release/bokeh-gl-2.4.3.min.js\", \"https://cdn.bokeh.org/bokeh/release/bokeh-widgets-2.4.3.min.js\", \"https://cdn.bokeh.org/bokeh/release/bokeh-tables-2.4.3.min.js\", \"https://cdn.bokeh.org/bokeh/release/bokeh-mathjax-2.4.3.min.js\"];\n  const css_urls = [];\n\n  const inline_js = [    function(Bokeh) {\n      Bokeh.set_log_level(\"info\");\n    },\nfunction(Bokeh) {\n    }\n  ];\n\n  function run_inline_js() {\n    if (root.Bokeh !== undefined || force === true) {\n          for (let i = 0; i < inline_js.length; i++) {\n      inline_js[i].call(root, root.Bokeh);\n    }\nif (force === true) {\n        display_loaded();\n      }} else if (Date.now() < root._bokeh_timeout) {\n      setTimeout(run_inline_js, 100);\n    } else if (!root._bokeh_failed_load) {\n      console.log(\"Bokeh: BokehJS failed to load within specified timeout.\");\n      root._bokeh_failed_load = true;\n    } else if (force !== true) {\n      const cell = $(document.getElementById(\"1002\")).parents('.cell').data().cell;\n      cell.output_area.append_execute_result(NB_LOAD_WARNING)\n    }\n  }\n\n  if (root._bokeh_is_loading === 0) {\n    console.debug(\"Bokeh: BokehJS loaded, going straight to plotting\");\n    run_inline_js();\n  } else {\n    load_libs(css_urls, js_urls, function() {\n      console.debug(\"Bokeh: BokehJS plotting callback run at\", now());\n      run_inline_js();\n    });\n  }\n}(window));",
      "application/vnd.bokehjs_load.v0+json": ""
     },
     "metadata": {},
     "output_type": "display_data"
    }
   ],
   "source": [
    "from bokeh.models import ColumnDataSource, LabelSet\n",
    "from bokeh.plotting import figure, show, output_file\n",
    "from bokeh.io import output_notebook\n",
    "output_notebook()"
   ]
  },
  {
   "cell_type": "code",
   "execution_count": 21,
   "metadata": {},
   "outputs": [
    {
     "data": {
      "text/html": [
       "\n",
       "  <div class=\"bk-root\" id=\"0bc8b4a8-0ae5-4371-923d-a376905b083e\" data-root-id=\"1003\"></div>\n"
      ]
     },
     "metadata": {},
     "output_type": "display_data"
    },
    {
     "data": {
      "application/javascript": "(function(root) {\n  function embed_document(root) {\n  const docs_json = {\"54c0c3fe-c865-4868-960e-fb242d96bfc8\":{\"defs\":[],\"roots\":{\"references\":[{\"attributes\":{\"below\":[{\"id\":\"1014\"}],\"center\":[{\"id\":\"1017\"},{\"id\":\"1021\"}],\"left\":[{\"id\":\"1018\"}],\"renderers\":[{\"id\":\"1035\"}],\"title\":{\"id\":\"1004\"},\"toolbar\":{\"id\":\"1026\"},\"toolbar_location\":\"above\",\"x_range\":{\"id\":\"1006\"},\"x_scale\":{\"id\":\"1010\"},\"y_range\":{\"id\":\"1008\"},\"y_scale\":{\"id\":\"1012\"}},\"id\":\"1003\",\"subtype\":\"Figure\",\"type\":\"Plot\"},{\"attributes\":{\"coordinates\":null,\"formatter\":{\"id\":\"1042\"},\"group\":null,\"major_label_policy\":{\"id\":\"1043\"},\"ticker\":{\"id\":\"1015\"}},\"id\":\"1014\",\"type\":\"LinearAxis\"},{\"attributes\":{\"tools\":[{\"id\":\"1022\"},{\"id\":\"1023\"},{\"id\":\"1024\"},{\"id\":\"1025\"}]},\"id\":\"1026\",\"type\":\"Toolbar\"},{\"attributes\":{\"coordinates\":null,\"formatter\":{\"id\":\"1039\"},\"group\":null,\"major_label_policy\":{\"id\":\"1040\"},\"ticker\":{\"id\":\"1019\"}},\"id\":\"1018\",\"type\":\"LinearAxis\"},{\"attributes\":{\"source\":{\"id\":\"1031\"}},\"id\":\"1036\",\"type\":\"CDSView\"},{\"attributes\":{},\"id\":\"1022\",\"type\":\"PanTool\"},{\"attributes\":{\"coordinates\":null,\"group\":null,\"text\":\"Word distribution accross all sentences\"},\"id\":\"1004\",\"type\":\"Title\"},{\"attributes\":{},\"id\":\"1039\",\"type\":\"BasicTickFormatter\"},{\"attributes\":{},\"id\":\"1006\",\"type\":\"DataRange1d\"},{\"attributes\":{},\"id\":\"1042\",\"type\":\"BasicTickFormatter\"},{\"attributes\":{},\"id\":\"1023\",\"type\":\"WheelZoomTool\"},{\"attributes\":{},\"id\":\"1040\",\"type\":\"AllLabels\"},{\"attributes\":{\"bottom\":{\"value\":0},\"fill_alpha\":{\"value\":0.2},\"fill_color\":{\"value\":\"#1f77b4\"},\"hatch_alpha\":{\"value\":0.2},\"left\":{\"field\":\"left\"},\"line_alpha\":{\"value\":0.2},\"line_color\":{\"value\":\"#555555\"},\"right\":{\"field\":\"right\"},\"top\":{\"field\":\"top\"}},\"id\":\"1034\",\"type\":\"Quad\"},{\"attributes\":{\"data\":{\"left\":{\"__ndarray__\":\"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\",\"dtype\":\"float64\",\"order\":\"little\",\"shape\":[500]},\"right\":{\"__ndarray__\":\"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\",\"dtype\":\"float64\",\"order\":\"little\",\"shape\":[500]},\"top\":{\"__ndarray__\":\"ibwKJhgsQUAAAAAAAAAAAAAAAAAAAAAAAAAAAAAAAAAAAAAAAAAAAAAAAAAAAAAAAAAAAAAAAAAAAAAAAAAAAAAAAAAAAAAAAAAAAAAAAAAAAAAAAAAAAAAAAAAAAAAAAAAAAAAAAAAAAAAAAAAAAAAAAAAAAAAAAAAAAAAAAAAAAAAAAAAAAAAAAAAAAAAAAAAAAAAAAAAAAAAAAAAAAAAAAAAAAAAAAAAAAAAAAAAAAAAAAAAAAAAAAAAAAAAAAAAAAAAAAAAAAAAAAAAAAAAAAAAAAAAAAAAAAAAAAAAAAAAAAAAAAAAAAAAAAAAAAAAAAAAAAAAAAAAAAAAAAAAAAAAAAAAAAAAAAAAAAAAAAAAAAAAAAAAAAAAAAAAAAAAAAAAAAAAAAAAAAAAAAAAAAAAAAAAAAAAAAAAAAAAAAAAAAAAAAAAAAAAAAAAAAAAAAAAAAAAAAAAAAAAAAAAAAAAAAAAAAAAAAAAAAAAAAAAAAAAAAAAAAAAAAAAAAAAAAAAAAAAAAAAAAAAAAH+lg6ewVC5AAAAAAAAAAAAAAAAAAAAAAAAAAAAAAAAAAAAAAAAAAAAAAAAAAAAAAAAAAAAAAAAAAAAAAAAAAAAAAAAAAAAAAAAAAAAAAAAAAAAAAAAAAAAAAAAAAAAAAAAAAAAAAAAAAAAAAAAAAAAAAAAAAAAAAAAAAAAAAAAAAAAAAAAAAAAAAAAAAAAAAAAAAAAAAAAAAAAAAAAAAAAAAAAAAAAAAAAAAAAAAAAAAAAAAAAAAAAAAAAAAAAAAAAAAAAAAAAAAAAAAAAAAAAAAAAAAAAAAAAAAAAAAAAAAAAAAAAAAAAAAAAAAAAAANaLqEMHuhVAAAAAAAAAAAAAAAAAAAAAAAAAAAAAAAAAAAAAAAAAAAAAAAAAAAAAAAAAAAAAAAAAAAAAAAAAAAAAAAAAAAAAAAAAAAAAAAAAAAAAAAAAAAAAAAAAAAAAAAAAAAAAAAAAAAAAAAAAAAAAAAAAAAAAAAAAAAAAAAAAAAAAAAAAAAAAAAAAAAAAAAAAAAAAAAAAAAAAAAAAAABCO407cMMOQAAAAAAAAAAAAAAAAAAAAAAAAAAAAAAAAAAAAAAAAAAAAAAAAAAAAAAAAAAAAAAAAAAAAAAAAAAAAAAAAAAAAAAAAAAAAAAAAAAAAAAAAAAAAAAAAAAAAAAAAAAAAAAAAAAAAAAAAAAAAAAAAAAAAAAAAAAAAAAAAAAAAAAAAAAAI8H+rKihAEAAAAAAAAAAAAAAAAAAAAAAAAAAAAAAAAAAAAAAAAAAAAAAAAAAAAAAAAAAAAAAAAAAAAAAAAAAAAAAAAAAAAAAAAAAAAAAAAAAAAAAAAAAAAAAAAAAAAAAAAAAAAAAAAD0MrKi4SX/PwAAAAAAAAAAAAAAAAAAAAAAAAAAAAAAAAAAAAAAAAAAAAAAAAAAAAAAAAAAAAAAAAAAAAAAAAAAAAAAAAAAAAAAAAAAAAAAAAAAAAAAAAAA5+wR1Sd/8T8AAAAAAAAAAAAAAAAAAAAAAAAAAAAAAAAAAAAAAAAAAAAAAAAAAAAAAAAAAAAAAAAAAAAAAAAAAAAAAAAAAAAAAAAAAAAAAAAigmUC5a/rPwAAAAAAAAAAAAAAAAAAAAAAAAAAAAAAAAAAAAAAAAAAAAAAAAAAAAAAAAAAAAAAAAAAAAAAAAAAAAAAAAAAAADlVh4GHJztPwAAAAAAAAAAAAAAAAAAAAAAAAAAAAAAAAAAAAAAAAAAAAAAAAAAAAAAAAAAAAAAAG6urP6tw+k/AAAAAAAAAAAAAAAAAAAAAAAAAAAAAAAAAAAAAAAAAAAAAAAAAAAAAAAAAAAAAAAAmiHMwevD5D8AAAAAAAAAAAAAAAAAAAAAAAAAAAAAAAAAAAAAAAAAAAAAAAAAAAAAWzyNO3DD3j8AAAAAAAAAAAAAAAAAAAAAAAAAAAAAAAAAAAAAAAAAAAAAAAAAAAAASreHlzxh2T8AAAAAAAAAAAAAAAAAAAAAAAAAAAAAAAAAAAAAAAAAAAAAAAAAAAAASreHlzxh2T8AAAAAAAAAAAAAAAAAAAAAAAAAAAAAAAAAAAAAAAAAAApFOCUmOtM/AAAAAAAAAAAAAAAAAAAAAAAAAAAAAAAA6YsQ7Jom0D8AAAAAAAAAAAAAAAAAAAAAAAAAAAAAAAAAAAAAAAAAAJKl0WUfJso/AAAAAAAAAAAAAAAAAAAAAAAAAAAAAAAAcuypLJQSxz8AAAAAAAAAAAAAAAAAAAAAAAAAAAAAAAAxelq6fevAPwAAAAAAAAAAAAAAAAAAAAAAAAAAAAAAAFIzgvMI/8M/AAAAAAAAAAAAAAAAAAAAAHLsqSyUEsc/AAAAAAAAAAAAAAAAAAAAAAAAAAAAAAAAMXpaun3rwD8AAAAAAAAAAAAAAAAAAAAA4g8WkM6IxT8AAAAAAAAAAAAAAAAAAAAAAsk9yVmcqD8AAAAAAAAAAAAAAAAAAAAAy3paun3rwD8AAAAAAAAAAAAAAAAAAAAAwlbuVkN1wj8AAAAAAAAAAAAAAAAAAAAAQjuNO3DDvj8AAAAAAAAAAGpX7lZDdbI/AAAAAAAAAAAAAAAAAAAAAEI7jTtww74/AAAAAAAAAADCVu5WQ3WyPwAAAAAAAAAAAAAAAAAAAABqV+5WQ3WyPwAAAAAAAAAAAsk9yVmcqD8AAAAAAAAAAOLJPclZnKg/AAAAAAAAAABCO407cMOuPwAAAAAAAAAA4g8WkM6ItT8AAAAAAAAAAAAAAAAAAAAA4sk9yVmcqD8AAAAAAAAAAEI7jTtww64/wlbuVkN1oj8AAAAAAAAAAMJW7lZDdaI/AAAAAAAAAAACyT3JWZyIPwAAAAAAAAAAAsk9yVmciD8AAAAAAAAAAEI7jTtww64/4sk9yVmcmD8AAAAAAAAAAALJPclZnIg/AAAAAAAAAADiyT3JWZyIPwAAAAAAAAAAAAAAAAAAAADCVu5WQ3WiP6YQFpDOiLU/AAAAAAAAAAACyT3JWZyoPwLJPclZnJg/AAAAAAAAAAACyT3JWZyIP8JW7lZDdbI/AAAAAAAAAAAAAAAAAAAAAMJW7lZDdaI/4sk9yVmciD8AAAAAAAAAAOLJPclZnJg/4sk9yVmcmD8jyD3JWZyoP+LJPclZnIg/AAAAAAAAAADiyT3JWZyoP+LJPclZnIg/I8g9yVmciD/iyT3JWZyIP2pX7lZDdaI/AAAAAAAAAADiyT3JWZyYPwAAAAAAAAAA4sk9yVmcmD/iyT3JWZyIPxpW7lZDdaI/4sk9yVmciD/iyT3JWZyIPyPIPclZnIg/4sk9yVmcmD8jyD3JWZyYP+LJPclZnIg/4sk9yVmciD8AAAAAAAAAAAAAAAAAAAAAalfuVkN1oj8AAAAAAAAAAOLJPclZnJg/4sk9yVmciD8aVu5WQ3WiPwAAAAAAAAAAAAAAAAAAAADiyT3JWZyIPwAAAAAAAAAAAAAAAAAAAADiyT3JWZyIP+LJPclZnIg/AAAAAAAAAAAAAAAAAAAAAAAAAAAAAAAA4sk9yVmciD/iyT3JWZyIPwAAAAAAAAAA4sk9yVmciD8AAAAAAAAAAAAAAAAAAAAAAAAAAAAAAAAAAAAAAAAAAOLJPclZnIg/4sk9yVmciD8jyD3JWZyIPwAAAAAAAAAA4sk9yVmcmD8jyD3JWZyIP+LJPclZnIg/AAAAAAAAAAAAAAAAAAAAAAAAAAAAAAAAAAAAAAAAAADiyT3JWZyIPwAAAAAAAAAAI8g9yVmciD8AAAAAAAAAAOLJPclZnIg/AAAAAAAAAADiyT3JWZyIPwAAAAAAAAAA4sk9yVmcmD/iyT3JWZyIPwAAAAAAAAAA4sk9yVmciD8AAAAAAAAAACPIPclZnIg/AAAAAAAAAAAAAAAAAAAAAOLJPclZnIg/4sk9yVmciD8AAAAAAAAAAOLJPclZnIg/AAAAAAAAAAAAAAAAAAAAAOLJPclZnIg/AAAAAAAAAADiyT3JWZyIP+LJPclZnIg/AAAAAAAAAAAAAAAAAAAAAAAAAAAAAAAAAAAAAAAAAAAAAAAAAAAAAOLJPclZnIg/AAAAAAAAAAAAAAAAAAAAAAAAAAAAAAAAAAAAAAAAAAAAAAAAAAAAACPIPclZnIg/4sk9yVmciD8AAAAAAAAAAAAAAAAAAAAAAAAAAAAAAAAjyD3JWZyIP+LJPclZnIg/AAAAAAAAAAAjyD3JWZyIPwAAAAAAAAAAAAAAAAAAAAAAAAAAAAAAAAAAAAAAAAAAI8g9yVmciD8AAAAAAAAAAAAAAAAAAAAAAAAAAAAAAADiyT3JWZyIPwAAAAAAAAAAAAAAAAAAAAAAAAAAAAAAAAAAAAAAAAAAAAAAAAAAAAAAAAAAAAAAAAAAAAAAAAAAAAAAAAAAAAAAAAAAAAAAAAAAAAAAAAAAAAAAAAAAAAAAAAAAAAAAAAAAAAAAAAAA4sk9yVmciD8AAAAAAAAAAAAAAAAAAAAAAAAAAAAAAAAAAAAAAAAAAOLJPclZnIg/AAAAAAAAAAAAAAAAAAAAAAAAAAAAAAAAAAAAAAAAAAAAAAAAAAAAAAAAAAAAAAAAAAAAAAAAAAAAAAAAAAAAAAAAAAAAAAAAAAAAAAAAAAAAAAAAAAAAAAAAAAAAAAAAAAAAAAAAAAAAAAAAAAAAAAAAAAAAAAAAAAAAAAAAAAAAAAAAAAAAAAAAAAAAAAAAAAAAAAAAAAAjyD3JWZyIPwAAAAAAAAAAAAAAAAAAAAAAAAAAAAAAAAAAAAAAAAAAAAAAAAAAAAAAAAAAAAAAAAAAAAAAAAAA4sk9yVmciD8AAAAAAAAAAAAAAAAAAAAAAAAAAAAAAAAAAAAAAAAAAAAAAAAAAAAAAAAAAAAAAAAAAAAAAAAAAAAAAAAAAAAAAAAAAAAAAAAAAAAAAAAAAAAAAAAAAAAAAAAAAAAAAAAAAAAAAAAAAAAAAAAAAAAAAAAAAAAAAAAAAAAAAAAAAAAAAAAAAAAAAAAAAAAAAAAAAAAAAAAAAAAAAAAAAAAAAAAAAAAAAAAAAAAAAAAAAAAAAAAAAAAAAAAAAAAAAAAAAAAAAAAAAAAAAAAAAAAAAAAAAAAAAAAjyD3JWZyIPwAAAAAAAAAAAAAAAAAAAAAAAAAAAAAAAAAAAAAAAAAAAAAAAAAAAAAAAAAAAAAAAAAAAAAAAAAAAAAAAAAAAAAAAAAAAAAAAAAAAAAAAAAAAAAAAAAAAAAAAAAAAAAAAAAAAAAAAAAAAAAAAAAAAAAAAAAAAAAAAAAAAAAAAAAAAAAAAAAAAAAjyD3JWZyIPw==\",\"dtype\":\"float64\",\"order\":\"little\",\"shape\":[500]}},\"selected\":{\"id\":\"1045\"},\"selection_policy\":{\"id\":\"1044\"}},\"id\":\"1031\",\"type\":\"ColumnDataSource\"},{\"attributes\":{},\"id\":\"1024\",\"type\":\"ResetTool\"},{\"attributes\":{},\"id\":\"1045\",\"type\":\"Selection\"},{\"attributes\":{},\"id\":\"1010\",\"type\":\"LinearScale\"},{\"attributes\":{},\"id\":\"1008\",\"type\":\"DataRange1d\"},{\"attributes\":{\"axis\":{\"id\":\"1014\"},\"coordinates\":null,\"group\":null,\"ticker\":null},\"id\":\"1017\",\"type\":\"Grid\"},{\"attributes\":{\"bottom\":{\"value\":0},\"fill_alpha\":{\"value\":0.1},\"fill_color\":{\"value\":\"#1f77b4\"},\"hatch_alpha\":{\"value\":0.1},\"left\":{\"field\":\"left\"},\"line_alpha\":{\"value\":0.1},\"line_color\":{\"value\":\"#555555\"},\"right\":{\"field\":\"right\"},\"top\":{\"field\":\"top\"}},\"id\":\"1033\",\"type\":\"Quad\"},{\"attributes\":{},\"id\":\"1019\",\"type\":\"BasicTicker\"},{\"attributes\":{},\"id\":\"1044\",\"type\":\"UnionRenderers\"},{\"attributes\":{},\"id\":\"1015\",\"type\":\"BasicTicker\"},{\"attributes\":{},\"id\":\"1025\",\"type\":\"SaveTool\"},{\"attributes\":{},\"id\":\"1043\",\"type\":\"AllLabels\"},{\"attributes\":{},\"id\":\"1012\",\"type\":\"LinearScale\"},{\"attributes\":{\"coordinates\":null,\"data_source\":{\"id\":\"1031\"},\"glyph\":{\"id\":\"1032\"},\"group\":null,\"hover_glyph\":null,\"muted_glyph\":{\"id\":\"1034\"},\"nonselection_glyph\":{\"id\":\"1033\"},\"view\":{\"id\":\"1036\"}},\"id\":\"1035\",\"type\":\"GlyphRenderer\"},{\"attributes\":{\"axis\":{\"id\":\"1018\"},\"coordinates\":null,\"dimension\":1,\"group\":null,\"ticker\":null},\"id\":\"1021\",\"type\":\"Grid\"},{\"attributes\":{\"bottom\":{\"value\":0},\"fill_color\":{\"value\":\"#1f77b4\"},\"left\":{\"field\":\"left\"},\"line_color\":{\"value\":\"#555555\"},\"right\":{\"field\":\"right\"},\"top\":{\"field\":\"top\"}},\"id\":\"1032\",\"type\":\"Quad\"}],\"root_ids\":[\"1003\"]},\"title\":\"Bokeh Application\",\"version\":\"2.4.3\"}};\n  const render_items = [{\"docid\":\"54c0c3fe-c865-4868-960e-fb242d96bfc8\",\"root_ids\":[\"1003\"],\"roots\":{\"1003\":\"0bc8b4a8-0ae5-4371-923d-a376905b083e\"}}];\n  root.Bokeh.embed.embed_items_notebook(docs_json, render_items);\n  }\n  if (root.Bokeh !== undefined) {\n    embed_document(root);\n  } else {\n    let attempts = 0;\n    const timer = setInterval(function(root) {\n      if (root.Bokeh !== undefined) {\n        clearInterval(timer);\n        embed_document(root);\n      } else {\n        attempts++;\n        if (attempts > 100) {\n          clearInterval(timer);\n          console.log(\"Bokeh: ERROR: Unable to run BokehJS code because BokehJS library is missing\");\n        }\n      }\n    }, 10, root)\n  }\n})(window);",
      "application/vnd.bokehjs_exec.v0+json": ""
     },
     "metadata": {
      "application/vnd.bokehjs_exec.v0+json": {
       "id": "1003"
      }
     },
     "output_type": "display_data"
    }
   ],
   "source": [
    "import math\n",
    "def plot_distribution(vocabulary):\n",
    "    hist, edges = np.histogram(list(map(lambda x:math.log(x[1]),vocabulary.most_common())), density=True, bins=500)\n",
    "    p = figure(tools=\"pan,wheel_zoom,reset,save\",\n",
    "               toolbar_location=\"above\",\n",
    "               title=\"Word distribution accross all sentences\")\n",
    "    p.quad(top=hist, bottom=0, left=edges[:-1], right=edges[1:], line_color=\"#555555\", )\n",
    "    show(p)\n",
    "plot_distribution(vocab)"
   ]
  }
 ],
 "metadata": {
  "kernelspec": {
   "display_name": "Python 3.7.7rc1 64-bit",
   "language": "python",
   "name": "python3"
  },
  "language_info": {
   "codemirror_mode": {
    "name": "ipython",
    "version": 3
   },
   "file_extension": ".py",
   "mimetype": "text/x-python",
   "name": "python",
   "nbconvert_exporter": "python",
   "pygments_lexer": "ipython3",
   "version": "3.7.7rc1"
  },
  "orig_nbformat": 4,
  "vscode": {
   "interpreter": {
    "hash": "5bb21719e84a4be8592fa555a98a2ca07a3d132b9dac82a4dffc654b3194b132"
   }
  }
 },
 "nbformat": 4,
 "nbformat_minor": 2
}
