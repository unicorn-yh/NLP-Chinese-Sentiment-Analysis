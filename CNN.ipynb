{
 "cells": [
  {
   "cell_type": "code",
   "execution_count": 1,
   "metadata": {},
   "outputs": [
    {
     "name": "stderr",
     "output_type": "stream",
     "text": [
      "Using TensorFlow backend.\n"
     ]
    }
   ],
   "source": [
    "from __future__ import division, print_function\n",
    "from keras.callbacks import ModelCheckpoint\n",
    "from keras.layers import Dense, Dropout, Reshape, Flatten, concatenate, Input, Conv1D, GlobalMaxPooling1D, Embedding\n",
    "from keras.layers.recurrent import LSTM\n",
    "from keras.models import Sequential\n",
    "from keras.preprocessing.text import Tokenizer\n",
    "from keras.preprocessing.sequence import pad_sequences\n",
    "from keras.models import Model\n",
    "from sklearn.model_selection import train_test_split\n",
    "import numpy as np\n",
    "import pandas as pd\n",
    "import os\n",
    "import collections\n",
    "import re\n",
    "import string\n",
    "dataset_size = 500"
   ]
  },
  {
   "cell_type": "code",
   "execution_count": null,
   "metadata": {},
   "outputs": [],
   "source": [
    "stopword_ls = []\n",
    "def getStopWord():\n",
    "    with open('lib/stopwords_utf8.txt', 'r',encoding='UTF-8') as file:\n",
    "        for line in file:\n",
    "            stopword_ls.append(line.split('\\n')[0])\n",
    "getStopWord()\n",
    "\n",
    "def isStopWord(word):\n",
    "    for i in range(len(stopword_ls)):\n",
    "        if word == stopword_ls[i]:\n",
    "            return True\n",
    "    return False"
   ]
  },
  {
   "cell_type": "code",
   "execution_count": null,
   "metadata": {},
   "outputs": [],
   "source": [
    "import jieba\n",
    "import random\n",
    "def load_data():   #获取数据集\n",
    "    data = []\n",
    "    getStopWord()\n",
    "    positive_line = 0\n",
    "    negative_line = 0\n",
    "    total_positive_line = dataset_size\n",
    "    total_negative_line = dataset_size\n",
    "\n",
    "    with open('data/total/pos.txt', 'r', encoding='utf-8') as f:\n",
    "        print('File Directory: data/total/pos.txt')\n",
    "        sentences = f.readlines()\n",
    "        for sentence in sentences[:total_positive_line]:\n",
    "            positive_line += 1\n",
    "            if positive_line == total_positive_line:\n",
    "                end_val = '\\n'\n",
    "            else:\n",
    "                end_val = '\\r'\n",
    "            print('Getting positive sentence {}/{}'.format(positive_line,total_positive_line),end=end_val)\n",
    "            word_ls = []\n",
    "            words = sentence.replace('\\n','').split('    ')   #get chinese sentence\n",
    "            tmp_ls = list(jieba.cut(words[1], cut_all=True))   #segmentation\n",
    "            for i in range(len(tmp_ls)):\n",
    "                if not isStopWord(tmp_ls[i]):\n",
    "                       word_ls.append(tmp_ls[i]) \n",
    "            data.append([word_ls, 0])\n",
    "\n",
    "    with open('data/total/neg.txt', 'r', encoding='utf-8') as f:\n",
    "        print('File Directory: data/total/neg.txt')\n",
    "        sentences = f.readlines()\n",
    "        for sentence in sentences[:total_negative_line]:\n",
    "            negative_line += 1\n",
    "            if negative_line == total_negative_line:\n",
    "                end_val = '\\n'\n",
    "            else:\n",
    "                end_val = '\\r'\n",
    "            print('Getting negative sentence {}/{}'.format(negative_line,total_negative_line),end=end_val)\n",
    "            word_ls = []\n",
    "            words = sentence.replace('\\n','').split('    ')   #get chinese sentence\n",
    "            tmp_ls = list(jieba.cut(words[1], cut_all=True))   #segmentation\n",
    "            for i in range(len(tmp_ls)):\n",
    "                if not isStopWord(tmp_ls[i]):\n",
    "                       word_ls.append(tmp_ls[i]) \n",
    "            data.append([word_ls, 1])\n",
    "\n",
    "    print('Positive Line: {} | Negative Line: {}'.format(positive_line,negative_line))\n",
    "    random.shuffle(data)\n",
    "    return data"
   ]
  },
  {
   "cell_type": "code",
   "execution_count": null,
   "metadata": {},
   "outputs": [],
   "source": [
    "import jieba\n",
    "from snownlp import SnowNLP\n",
    "\n",
    "def jieba_segment(text):\n",
    "    word_ls = []\n",
    "    tmp_ls = list(jieba.cut(text, cut_all=False))   #segmentation\n",
    "    for i in range(len(tmp_ls)):\n",
    "        if not isStopWord(tmp_ls[i]):\n",
    "            word_ls.append(tmp_ls[i]) \n",
    "    return word_ls\n",
    "\n",
    "def snow_segment(text):\n",
    "    word_ls = []\n",
    "    tmp_ls = SnowNLP(text).words  #segmentation  \n",
    "    for i in range(len(tmp_ls)):\n",
    "        if not isStopWord(tmp_ls[i]):\n",
    "            word_ls.append(tmp_ls[i]) \n",
    "    return word_ls"
   ]
  },
  {
   "cell_type": "code",
   "execution_count": null,
   "metadata": {},
   "outputs": [
    {
     "name": "stderr",
     "output_type": "stream",
     "text": [
      "d:\\Downloads\\python3.6\\lib\\site-packages\\tqdm\\auto.py:22: TqdmWarning: IProgress not found. Please update jupyter and ipywidgets. See https://ipywidgets.readthedocs.io/en/stable/user_install.html\n",
      "  from .autonotebook import tqdm as notebook_tqdm\n"
     ]
    }
   ],
   "source": [
    "import torch\n",
    "from tqdm import tqdm\n",
    "from torchtext.legacy import vocab\n",
    "import torchtext.vocab as Vocab\n",
    "import torch.utils.data as Data\n",
    "import torch.nn.functional as F\n",
    "from torch import nn\n",
    "import time\n",
    "\n",
    "def get_vocab(data):\n",
    "    tokenized_data = [words for words, _ in data]\n",
    "    counter = collections.Counter([tk for st in tokenized_data for tk in st])\n",
    "    return vocab.Vocab(counter, min_freq=5)\n",
    "\n",
    "def preprocess(data, vocab):  #data:list | vocab:torchtext.legacy.vocab.Vocab\n",
    "    max_l = 500  # 将每条评论通过截断或者补0，使得长度变成500\n",
    "\n",
    "    def pad(x):\n",
    "        return x[:max_l] if len(x) > max_l else x + [0] * (max_l - len(x))\n",
    "\n",
    "    tokenized_data = [words for words, _ in data]\n",
    "    features = torch.tensor([pad([vocab.stoi[word] for word in words]) for words in tokenized_data])\n",
    "    labels = torch.tensor([score for _, score in data])\n",
    "    return features, labels\n",
    "\n",
    "def load_pretrained_embedding(words, pretrained_vocab):\n",
    "    \"\"\"从预训练好的vocab中提取出words对应的词向量\"\"\"\n",
    "    embed = torch.zeros(len(words), pretrained_vocab.vectors[0].shape[0])  # 初始化为0\n",
    "    oov_count = 0  # out of vocabulary\n",
    "    for i, word in enumerate(words):\n",
    "        try:\n",
    "            idx = pretrained_vocab.stoi[word]\n",
    "            embed[i, :] = pretrained_vocab.vectors[idx]\n",
    "        except KeyError:\n",
    "            oov_count += 1\n",
    "    if oov_count > 0:\n",
    "        print(\"Words Out of Vocabulary: {}\".format(oov_count))\n",
    "    return embed\n",
    "\n",
    "def evaluate_accuracy(data_iter, net, device=None):\n",
    "    if device is None and isinstance(net, torch.nn.Module):\n",
    "        # 如果没指定device就使用net的device\n",
    "        device = list(net.parameters())[0].device\n",
    "    acc_sum, n = 0.0, 0\n",
    "    with torch.no_grad():\n",
    "        for X, y in data_iter:\n",
    "            net.eval()  # 评估模式, 这会关闭dropout\n",
    "            acc_sum += (net(X.to(device)).argmax(dim=1) == y.to(device)).float().sum().cpu().item()\n",
    "            net.train()  # 改回训练模式\n",
    "            n += y.shape[0]\n",
    "    return acc_sum / n\n",
    "\n",
    "def train(train_iter, test_iter, net, loss, optimizer, device, num_epochs):\n",
    "    net = net.to(device)\n",
    "    print(\"training on \", device)\n",
    "    batch_count = 0\n",
    "    opt_test_acc = 0\n",
    "    train_acc_ls,test_acc_ls,loss_ls = [],[],[]\n",
    "    \n",
    "    for epoch in range(num_epochs):\n",
    "        train_l_sum, train_acc_sum, n, start = 0.0, 0.0, 0, time.time()\n",
    "        for X, y in tqdm(train_iter):\n",
    "            X = X.to(device)\n",
    "            y = y.to(device)\n",
    "            y_hat = net(X)\n",
    "            l = loss(y_hat, y)\n",
    "            optimizer.zero_grad()\n",
    "            l.backward()\n",
    "            optimizer.step()\n",
    "            train_l_sum += l.cpu().item()\n",
    "            train_acc_sum += (y_hat.argmax(dim=1) == y).sum().cpu().item()\n",
    "            n += y.shape[0]\n",
    "            batch_count += 1\n",
    "        test_acc = evaluate_accuracy(test_iter, net)\n",
    "        print('epoch %d, loss %.4f, train acc %.3f, test acc %.3f, time %.1f sec'\n",
    "              % (epoch + 1, train_l_sum / batch_count, train_acc_sum / n, test_acc, time.time() - start))\n",
    "        train_acc_ls.append(train_acc_sum / n)\n",
    "        test_acc_ls.append(test_acc)\n",
    "        loss_ls.append(train_l_sum / batch_count)\n",
    "    return train_acc_ls,test_acc_ls,loss_ls"
   ]
  },
  {
   "cell_type": "code",
   "execution_count": null,
   "metadata": {},
   "outputs": [
    {
     "name": "stderr",
     "output_type": "stream",
     "text": [
      "Building prefix dict from the default dictionary ...\n",
      "Loading model from cache C:\\Users\\User\\AppData\\Local\\Temp\\jieba.cache\n"
     ]
    },
    {
     "name": "stdout",
     "output_type": "stream",
     "text": [
      "File Directory: data/total/pos.txt\n",
      "Getting positive sentence 1/500\r"
     ]
    },
    {
     "name": "stderr",
     "output_type": "stream",
     "text": [
      "Loading model cost 1.770 seconds.\n",
      "Prefix dict has been built successfully.\n"
     ]
    },
    {
     "name": "stdout",
     "output_type": "stream",
     "text": [
      "Getting positive sentence 500/500\n",
      "File Directory: data/total/neg.txt\n",
      "Getting negative sentence 500/500\n",
      "Positive Line: 500 | Negative Line: 500\n",
      "Words in Vocabulary: 1392\n"
     ]
    }
   ],
   "source": [
    "batch_size = 64\n",
    "train_data, test_data = train_test_split(load_data(), test_size=0.2)\n",
    "vocabs = get_vocab(train_data)\n",
    "print('Words in Vocabulary: {}'.format(len(vocabs)))\n",
    "train_set = Data.TensorDataset(*preprocess(train_data, vocabs))\n",
    "test_set = Data.TensorDataset(*preprocess(test_data, vocabs))\n",
    "train_iter = Data.DataLoader(train_set, batch_size, shuffle=True)\n",
    "test_iter = Data.DataLoader(test_set, batch_size)"
   ]
  },
  {
   "cell_type": "code",
   "execution_count": null,
   "metadata": {},
   "outputs": [
    {
     "name": "stdout",
     "output_type": "stream",
     "text": [
      "TRAIN DATASET | Total Words:36890 | Total Vocabulary:7586 | Max Sentence Length:2\n",
      "TEST  DATASET | Total Words:9425 | Total Vocabulary:3491 | Max Sentence Length:2\n"
     ]
    }
   ],
   "source": [
    "all_training_words = [word for lines in train_data for word in lines[0]]\n",
    "training_sentence_lengths = [len(lines) for lines in train_data]\n",
    "TRAINING_VOCAB = sorted(list(set(all_training_words)))\n",
    "print(\"TRAIN DATASET | Total Words:{} | Total Vocabulary:{} | Max Sentence Length:{}\".format(len(all_training_words),len(TRAINING_VOCAB),max(training_sentence_lengths)))\n",
    "\n",
    "all_test_words = [word for lines in test_data for word in lines[0]]\n",
    "test_sentence_lengths = [len(tokens) for tokens in train_data]\n",
    "TEST_VOCAB = sorted(list(set(all_test_words)))\n",
    "print(\"TEST  DATASET | Total Words:{} | Total Vocabulary:{} | Max Sentence Length:{}\" .format(len(all_test_words),len(TEST_VOCAB),max(test_sentence_lengths)))"
   ]
  },
  {
   "cell_type": "code",
   "execution_count": null,
   "metadata": {},
   "outputs": [],
   "source": [
    "class GlobalMaxPool1d(nn.Module): # 用一维池化层实现时序最大池化层\n",
    "    def __init__(self):\n",
    "        super(GlobalMaxPool1d, self).__init__()\n",
    "\n",
    "    def forward(self, x):\n",
    "        # x shape: (batch_size, channel, seq_len)\n",
    "        # return shape: (batch_size, channel, 1)\n",
    "        return F.max_pool1d(x, kernel_size=x.shape[2])\n",
    "\n",
    "\n",
    "class CNN(nn.Module):\n",
    "    def __init__(self, vocab, embed_size, kernel_sizes, num_channels):\n",
    "        super(CNN, self).__init__()\n",
    "        self.embedding = nn.Embedding(len(vocab), embed_size)\n",
    "        # 不参与训练的嵌入层\n",
    "        self.constant_embedding = nn.Embedding(len(vocab), embed_size)\n",
    "        self.dropout = nn.Dropout(0.5)\n",
    "        self.decoder = nn.Linear(sum(num_channels), 2)\n",
    "        # 时序最大池化层没有权重，所以可以共用一个实例\n",
    "        self.pool = GlobalMaxPool1d()\n",
    "        self.convs = nn.ModuleList()  # 创建多个一维卷积层\n",
    "        for c, k in zip(num_channels, kernel_sizes):\n",
    "            self.convs.append(nn.Conv1d(in_channels=2 * embed_size,\n",
    "                                        out_channels=c,\n",
    "                                        kernel_size=k))\n",
    "\n",
    "    def forward(self, inputs):\n",
    "        # 将两个形状是(批量大小, 词数, 词向量维度)的嵌入层的输出按词向量连结\n",
    "        embeddings = torch.cat((\n",
    "            self.embedding(inputs),\n",
    "            self.constant_embedding(inputs)), dim=2)  # (batch, seq_len, 2*embed_size)\n",
    "        # 根据Conv1D要求的输入格式，将词向量维，即一维卷积层的通道维(即词向量那一维)，变换到前一维\n",
    "        embeddings = embeddings.permute(0, 2, 1)\n",
    "        # 对于每个一维卷积层，在时序最大池化后会得到一个形状为(批量大小, 通道大小, 1)的\n",
    "        # Tensor。使用flatten函数去掉最后一维，然后在通道维上连结\n",
    "        encoding = torch.cat([self.pool(F.relu(conv(embeddings))).squeeze(-1) for conv in self.convs], dim=1)\n",
    "        # 应用丢弃法后使用全连接层得到输出\n",
    "        outputs = self.decoder(self.dropout(encoding))\n",
    "        return outputs"
   ]
  },
  {
   "cell_type": "code",
   "execution_count": null,
   "metadata": {},
   "outputs": [
    {
     "name": "stdout",
     "output_type": "stream",
     "text": [
      "Words Out of Vocabulary: 61\n",
      "Words Out of Vocabulary: 61\n",
      "training on  cpu\n"
     ]
    },
    {
     "name": "stderr",
     "output_type": "stream",
     "text": [
      "100%|██████████| 13/13 [00:54<00:00,  4.21s/it]\n"
     ]
    },
    {
     "name": "stdout",
     "output_type": "stream",
     "text": [
      "epoch 1, loss 0.5651, train acc 0.675, test acc 0.820, time 57.8 sec\n"
     ]
    },
    {
     "name": "stderr",
     "output_type": "stream",
     "text": [
      "100%|██████████| 13/13 [00:34<00:00,  2.63s/it]\n"
     ]
    },
    {
     "name": "stdout",
     "output_type": "stream",
     "text": [
      "epoch 2, loss 0.1385, train acc 0.884, test acc 0.865, time 36.9 sec\n"
     ]
    },
    {
     "name": "stderr",
     "output_type": "stream",
     "text": [
      "100%|██████████| 13/13 [00:33<00:00,  2.61s/it]\n"
     ]
    },
    {
     "name": "stdout",
     "output_type": "stream",
     "text": [
      "epoch 3, loss 0.0558, train acc 0.948, test acc 0.870, time 36.7 sec\n"
     ]
    },
    {
     "name": "stderr",
     "output_type": "stream",
     "text": [
      "100%|██████████| 13/13 [00:34<00:00,  2.62s/it]\n"
     ]
    },
    {
     "name": "stdout",
     "output_type": "stream",
     "text": [
      "epoch 4, loss 0.0277, train acc 0.975, test acc 0.860, time 36.9 sec\n"
     ]
    },
    {
     "name": "stderr",
     "output_type": "stream",
     "text": [
      "100%|██████████| 13/13 [00:34<00:00,  2.67s/it]\n"
     ]
    },
    {
     "name": "stdout",
     "output_type": "stream",
     "text": [
      "epoch 5, loss 0.0122, train acc 0.993, test acc 0.885, time 37.5 sec\n"
     ]
    }
   ],
   "source": [
    "os.environ[\"CUDA_VISIBLE_DEVICES\"] = \"0\"\n",
    "device = torch.device('cuda' if torch.cuda.is_available() else 'cpu')\n",
    "\n",
    "embed_size, kernel_sizes, nums_channels = 300, [2, 3, 4], [300, 300, 300]\n",
    "net = CNN(vocabs, embed_size, kernel_sizes, nums_channels)\n",
    "\n",
    "cache = '.vector_cache'\n",
    "if not os.path.exists(cache):\n",
    "    os.mkdir(cache)\n",
    "glove_vocab = Vocab.Vectors(name='data/sgns.baidubaike.bigram-char', cache=cache)\n",
    "net.embedding.weight.data.copy_(\n",
    "    load_pretrained_embedding(vocabs.itos, glove_vocab))\n",
    "net.constant_embedding.weight.data.copy_(\n",
    "    load_pretrained_embedding(vocabs.itos, glove_vocab))\n",
    "net.constant_embedding.weight.requires_grad = False\n",
    "\n",
    "lr, num_epochs = 0.001, 5\n",
    "optimizer = torch.optim.Adam(filter(lambda p: p.requires_grad, net.parameters()), lr=lr)\n",
    "loss = nn.CrossEntropyLoss()\n",
    "train_acc_ls,test_acc_ls,loss_ls = train(train_iter, test_iter, net, loss, optimizer, device, num_epochs)"
   ]
  },
  {
   "cell_type": "code",
   "execution_count": null,
   "metadata": {},
   "outputs": [
    {
     "name": "stdout",
     "output_type": "stream",
     "text": [
      "CNN(\n",
      "  (embedding): Embedding(1392, 300)\n",
      "  (constant_embedding): Embedding(1392, 300)\n",
      "  (dropout): Dropout(p=0.5, inplace=False)\n",
      "  (decoder): Linear(in_features=900, out_features=2, bias=True)\n",
      "  (pool): GlobalMaxPool1d()\n",
      "  (convs): ModuleList(\n",
      "    (0): Conv1d(600, 300, kernel_size=(2,), stride=(1,))\n",
      "    (1): Conv1d(600, 300, kernel_size=(3,), stride=(1,))\n",
      "    (2): Conv1d(600, 300, kernel_size=(4,), stride=(1,))\n",
      "  )\n",
      ")\n"
     ]
    }
   ],
   "source": [
    "print(net)"
   ]
  },
  {
   "cell_type": "code",
   "execution_count": null,
   "metadata": {},
   "outputs": [
    {
     "data": {
      "text/plain": [
       "Text(0, 0.5, 'loss')"
      ]
     },
     "execution_count": 11,
     "metadata": {},
     "output_type": "execute_result"
    },
    {
     "data": {
      "image/png": "[encoded data removed]",
      "text/plain": [
       "<Figure size 720x432 with 1 Axes>"
      ]
     },
     "metadata": {
      "needs_background": "light"
     },
     "output_type": "display_data"
    }
   ],
   "source": [
    "import matplotlib.pyplot as plt\n",
    "plt.figure(figsize=(10,6))\n",
    "x = [*range(1, num_epochs+1, 1)]\n",
    "plt.plot(x, loss_ls, label='loss')\n",
    "plt.legend()\n",
    "plt.xlabel('epochs')\n",
    "plt.ylabel('loss')"
   ]
  },
  {
   "cell_type": "code",
   "execution_count": null,
   "metadata": {},
   "outputs": [
    {
     "data": {
      "text/plain": [
       "Text(0, 0.5, 'accuracy')"
      ]
     },
     "execution_count": 12,
     "metadata": {},
     "output_type": "execute_result"
    },
    {
     "data": {
      "image/png": "[encoded data removed]",
      "text/plain": [
       "<Figure size 720x432 with 1 Axes>"
      ]
     },
     "metadata": {
      "needs_background": "light"
     },
     "output_type": "display_data"
    }
   ],
   "source": [
    "plt.figure(figsize=(10,6))\n",
    "plt.plot(x, train_acc_ls, label='train accuracy')\n",
    "plt.plot(x, test_acc_ls, label='test accuracy')\n",
    "plt.legend()\n",
    "plt.xlabel('epochs')\n",
    "plt.ylabel('accuracy')"
   ]
  },
  {
   "cell_type": "code",
   "execution_count": null,
   "metadata": {},
   "outputs": [],
   "source": [
    "x = torch.zeros(2, 1,3)\n",
    "y = torch.squeeze(x,-1)\n"
   ]
  }
 ],
 "metadata": {
  "kernelspec": {
   "display_name": "Python 3.6.8rc1 64-bit",
   "language": "python",
   "name": "python3"
  },
  "language_info": {
   "codemirror_mode": {
    "name": "ipython",
    "version": 3
   },
   "file_extension": ".py",
   "mimetype": "text/x-python",
   "name": "python",
   "nbconvert_exporter": "python",
   "pygments_lexer": "ipython3",
   "version": "3.6.8rc1"
  },
  "orig_nbformat": 4,
  "vscode": {
   "interpreter": {
    "hash": "db9c657620c8578ddfc3d9ba89c38fdc5fd80f960e156f76bd6d1a512183127c"
   }
  }
 },
 "nbformat": 4,
 "nbformat_minor": 2
}
