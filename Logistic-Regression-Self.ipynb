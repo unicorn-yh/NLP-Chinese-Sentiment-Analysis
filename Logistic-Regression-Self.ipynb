{
 "cells": [
  {
   "cell_type": "code",
   "execution_count": 1,
   "metadata": {},
   "outputs": [],
   "source": [
    "from sklearn.model_selection import train_test_split\n",
    "import numpy as np\n",
    "import pandas as pd\n",
    "import collections\n",
    "train_set_num, test_set_num = 500,500"
   ]
  },
  {
   "cell_type": "code",
   "execution_count": 2,
   "metadata": {},
   "outputs": [],
   "source": [
    "def concate_files(file1,file2,final_file):\n",
    "      data = data2 = \"\"\n",
    "      with open(file1, 'r', encoding='utf-8') as fp:  # Reading data from file1\n",
    "            sentences = fp.readlines()\n",
    "            for sentence in sentences[:train_set_num]:\n",
    "                  data += sentence\n",
    "      with open(file2, 'r', encoding='utf-8') as fp:  # Reading data from file2\n",
    "            sentences = fp.readlines()\n",
    "            for sentence in sentences[:test_set_num]:\n",
    "                  data2 += sentence\n",
    "      data += data2  # To add the data of file2\n",
    "      with open (final_file, 'w', encoding='utf-8') as fp:\n",
    "            fp.write(data)\n",
    "concate_files('data/total/pos.txt','data/total/neg.txt','data/total/labeled_text.txt')"
   ]
  },
  {
   "cell_type": "code",
   "execution_count": 3,
   "metadata": {},
   "outputs": [
    {
     "name": "stderr",
     "output_type": "stream",
     "text": [
      "d:\\Downloads\\python3.7\\lib\\site-packages\\pandas\\util\\_decorators.py:311: ParserWarning: Falling back to the 'python' engine because the 'c' engine does not support regex separators (separators > 1 char and different from '\\s+' are interpreted as regex); you can avoid this warning by specifying engine='python'.\n",
      "  return func(*args, **kwargs)\n"
     ]
    },
    {
     "data": {
      "text/html": [
       "<div>\n",
       "<style scoped>\n",
       "    .dataframe tbody tr th:only-of-type {\n",
       "        vertical-align: middle;\n",
       "    }\n",
       "\n",
       "    .dataframe tbody tr th {\n",
       "        vertical-align: top;\n",
       "    }\n",
       "\n",
       "    .dataframe thead th {\n",
       "        text-align: right;\n",
       "    }\n",
       "</style>\n",
       "<table border=\"1\" class=\"dataframe\">\n",
       "  <thead>\n",
       "    <tr style=\"text-align: right;\">\n",
       "      <th></th>\n",
       "      <th>Label</th>\n",
       "      <th>Text</th>\n",
       "    </tr>\n",
       "  </thead>\n",
       "  <tbody>\n",
       "    <tr>\n",
       "      <th>0</th>\n",
       "      <td>1</td>\n",
       "      <td>距离川沙公路较近,但是公交指示不对,如果是\"蔡陆线\"的话,会非常麻烦.建议用别的路线.房间较...</td>\n",
       "    </tr>\n",
       "    <tr>\n",
       "      <th>1</th>\n",
       "      <td>1</td>\n",
       "      <td>商务大床房，房间很大，床有2M宽，整体感觉经济实惠不错!</td>\n",
       "    </tr>\n",
       "    <tr>\n",
       "      <th>2</th>\n",
       "      <td>1</td>\n",
       "      <td>早餐太差，无论去多少人，那边也不加食品的。酒店应该重视一下这个问题了。房间本身很好。</td>\n",
       "    </tr>\n",
       "    <tr>\n",
       "      <th>3</th>\n",
       "      <td>1</td>\n",
       "      <td>宾馆在小街道上，不大好找，但还好北京热心同胞很多~宾馆设施跟介绍的差不多，房间很小，确实挺小...</td>\n",
       "    </tr>\n",
       "    <tr>\n",
       "      <th>4</th>\n",
       "      <td>1</td>\n",
       "      <td>CBD中心,周围没什么店铺,说5星有点勉强.不知道为什么卫生间没有电吹风</td>\n",
       "    </tr>\n",
       "  </tbody>\n",
       "</table>\n",
       "</div>"
      ],
      "text/plain": [
       "   Label                                               Text\n",
       "0      1  距离川沙公路较近,但是公交指示不对,如果是\"蔡陆线\"的话,会非常麻烦.建议用别的路线.房间较...\n",
       "1      1                       商务大床房，房间很大，床有2M宽，整体感觉经济实惠不错!\n",
       "2      1         早餐太差，无论去多少人，那边也不加食品的。酒店应该重视一下这个问题了。房间本身很好。\n",
       "3      1  宾馆在小街道上，不大好找，但还好北京热心同胞很多~宾馆设施跟介绍的差不多，房间很小，确实挺小...\n",
       "4      1               CBD中心,周围没什么店铺,说5星有点勉强.不知道为什么卫生间没有电吹风"
      ]
     },
     "execution_count": 3,
     "metadata": {},
     "output_type": "execute_result"
    }
   ],
   "source": [
    "data = pd.read_csv('data/total/labeled_text.txt', header = None, delimiter='    ',encoding='utf-8',names=['Label', 'Text'])\n",
    "data.head()"
   ]
  },
  {
   "cell_type": "code",
   "execution_count": 4,
   "metadata": {},
   "outputs": [
    {
     "data": {
      "text/plain": [
       "array([ 1, -1], dtype=int64)"
      ]
     },
     "execution_count": 4,
     "metadata": {},
     "output_type": "execute_result"
    }
   ],
   "source": [
    "data.Label.unique()"
   ]
  },
  {
   "cell_type": "code",
   "execution_count": 5,
   "metadata": {},
   "outputs": [
    {
     "data": {
      "text/plain": [
       "(1000, 2)"
      ]
     },
     "execution_count": 5,
     "metadata": {},
     "output_type": "execute_result"
    }
   ],
   "source": [
    "data.shape"
   ]
  },
  {
   "cell_type": "code",
   "execution_count": 6,
   "metadata": {},
   "outputs": [],
   "source": [
    "stopword_ls = []\n",
    "def getStopWord():\n",
    "    with open('lib/stopwords_utf8.txt', 'r',encoding='UTF-8') as file:\n",
    "        for line in file:\n",
    "            stopword_ls.append(line.split('\\n')[0])\n",
    "getStopWord()\n",
    "\n",
    "def isStopWord(word):\n",
    "    for i in range(len(stopword_ls)):\n",
    "        if word == stopword_ls[i]:\n",
    "            return True\n",
    "    return False"
   ]
  },
  {
   "cell_type": "code",
   "execution_count": 7,
   "metadata": {},
   "outputs": [
    {
     "name": "stderr",
     "output_type": "stream",
     "text": [
      "d:\\Downloads\\python3.7\\lib\\random.py:278: SettingWithCopyWarning: \n",
      "A value is trying to be set on a copy of a slice from a DataFrame\n",
      "\n",
      "See the caveats in the documentation: https://pandas.pydata.org/pandas-docs/stable/user_guide/indexing.html#returning-a-view-versus-a-copy\n",
      "  x[i], x[j] = x[j], x[i]\n"
     ]
    },
    {
     "data": {
      "text/html": [
       "<div>\n",
       "<style scoped>\n",
       "    .dataframe tbody tr th:only-of-type {\n",
       "        vertical-align: middle;\n",
       "    }\n",
       "\n",
       "    .dataframe tbody tr th {\n",
       "        vertical-align: top;\n",
       "    }\n",
       "\n",
       "    .dataframe thead th {\n",
       "        text-align: right;\n",
       "    }\n",
       "</style>\n",
       "<table border=\"1\" class=\"dataframe\">\n",
       "  <thead>\n",
       "    <tr style=\"text-align: right;\">\n",
       "      <th></th>\n",
       "      <th>Label</th>\n",
       "      <th>Text</th>\n",
       "      <th>Segmented_Text</th>\n",
       "    </tr>\n",
       "  </thead>\n",
       "  <tbody>\n",
       "    <tr>\n",
       "      <th>0</th>\n",
       "      <td>1</td>\n",
       "      <td>这家酒店的设施真的非常不错.地理位置也方便,大堂气派.由于没有我预订的那种房型,到前台的时候...</td>\n",
       "      <td>[家, 酒店, 设施, 真, 不错, 地理, 位置, 大堂, 气派, 预订, 那种, 房, ...</td>\n",
       "    </tr>\n",
       "    <tr>\n",
       "      <th>1</th>\n",
       "      <td>1</td>\n",
       "      <td>招待所而已吧，唯一可取之处就是交通还行，三环边上。</td>\n",
       "      <td>[招待所, 唯一, 取之处, 交通, 还行, 环, 边上]</td>\n",
       "    </tr>\n",
       "    <tr>\n",
       "      <th>2</th>\n",
       "      <td>1</td>\n",
       "      <td>看了前面的点评，感觉此酒店应该不错，所以这次去慈溪定了国脉酒店。结果大失所望。酒店位置不错，...</td>\n",
       "      <td>[点评, 感觉, 酒店, 不错, 慈溪, 国脉酒店, 大失所望, 酒店, 位置, 不错, ，...</td>\n",
       "    </tr>\n",
       "    <tr>\n",
       "      <th>3</th>\n",
       "      <td>1</td>\n",
       "      <td>先说好的:地段在闹市区中心,房间也还可以,价格比较便宜,含在188房价里的早餐也可以.不好的...</td>\n",
       "      <td>[先, 说, 地段, 闹市区, 中心, 房间, 价格, 便宜, 含, 188, 房价, 里,...</td>\n",
       "    </tr>\n",
       "    <tr>\n",
       "      <th>4</th>\n",
       "      <td>1</td>\n",
       "      <td>住过的最差挂牌五星酒店!!!所订的行政高级江景房面对富春江,不过酒店和江中间有个中学隔着,酒...</td>\n",
       "      <td>[住, 差, 挂牌, 五星酒店, !!!, 所订, 行政, 高级, 江, 景房, 面对, 富...</td>\n",
       "    </tr>\n",
       "  </tbody>\n",
       "</table>\n",
       "</div>"
      ],
      "text/plain": [
       "   Label                                               Text  \\\n",
       "0      1  这家酒店的设施真的非常不错.地理位置也方便,大堂气派.由于没有我预订的那种房型,到前台的时候...   \n",
       "1      1                          招待所而已吧，唯一可取之处就是交通还行，三环边上。   \n",
       "2      1  看了前面的点评，感觉此酒店应该不错，所以这次去慈溪定了国脉酒店。结果大失所望。酒店位置不错，...   \n",
       "3      1  先说好的:地段在闹市区中心,房间也还可以,价格比较便宜,含在188房价里的早餐也可以.不好的...   \n",
       "4      1  住过的最差挂牌五星酒店!!!所订的行政高级江景房面对富春江,不过酒店和江中间有个中学隔着,酒...   \n",
       "\n",
       "                                      Segmented_Text  \n",
       "0  [家, 酒店, 设施, 真, 不错, 地理, 位置, 大堂, 气派, 预订, 那种, 房, ...  \n",
       "1                      [招待所, 唯一, 取之处, 交通, 还行, 环, 边上]  \n",
       "2  [点评, 感觉, 酒店, 不错, 慈溪, 国脉酒店, 大失所望, 酒店, 位置, 不错, ，...  \n",
       "3  [先, 说, 地段, 闹市区, 中心, 房间, 价格, 便宜, 含, 188, 房价, 里,...  \n",
       "4  [住, 差, 挂牌, 五星酒店, !!!, 所订, 行政, 高级, 江, 景房, 面对, 富...  "
      ]
     },
     "execution_count": 7,
     "metadata": {},
     "output_type": "execute_result"
    }
   ],
   "source": [
    "import jieba\n",
    "from snownlp import SnowNLP\n",
    "import random\n",
    "\n",
    "def jieba_segment(text):\n",
    "    word_ls = []\n",
    "    tmp_ls = list(jieba.cut(text, cut_all=False))   #segmentation\n",
    "    for i in range(len(tmp_ls)):\n",
    "        if not isStopWord(tmp_ls[i]):\n",
    "            word_ls.append(tmp_ls[i]) \n",
    "    return word_ls\n",
    "\n",
    "def snow_segment(text):\n",
    "    word_ls = []\n",
    "    tmp_ls = SnowNLP(text).words  #segmentation  \n",
    "    for i in range(len(tmp_ls)):\n",
    "        if not isStopWord(tmp_ls[i]):\n",
    "            word_ls.append(tmp_ls[i]) \n",
    "    return word_ls\n",
    "\n",
    "random.shuffle(data['Text'])\n",
    "#data['Segmented_Text'] = data['Text'].apply(lambda x: jieba_segment(x))\n",
    "data['Segmented_Text'] = data['Text'].apply(lambda x: snow_segment(x))\n",
    "data.head()"
   ]
  },
  {
   "cell_type": "code",
   "execution_count": null,
   "metadata": {},
   "outputs": [],
   "source": [
    "#Assign Label to each sentence\n",
    "PosNegLabel = []\n",
    "for label in data.Label:\n",
    "    if label == -1:        #negative\n",
    "        PosNegLabel.append(0)\n",
    "    elif label == 1:      #positive\n",
    "        PosNegLabel.append(1)\n",
    "data['Label']= PosNegLabel\n",
    "data = data[['Segmented_Text','Label']]\n",
    "data.head()"
   ]
  },
  {
   "cell_type": "code",
   "execution_count": 8,
   "metadata": {},
   "outputs": [],
   "source": [
    "data_train, data_test = train_test_split(data, test_size=0.20)"
   ]
  },
  {
   "cell_type": "code",
   "execution_count": 9,
   "metadata": {},
   "outputs": [
    {
     "name": "stdout",
     "output_type": "stream",
     "text": [
      "TRAIN DATASET | Total Words:32762 | Total Vocabulary:6051 | Max Sentence Length:578\n",
      "TEST  DATASET | Total Words:8458  | Total Vocabulary:2738 | Max Sentence Length:578\n"
     ]
    }
   ],
   "source": [
    "all_training_words = [word for tokens in data_train[\"Segmented_Text\"] for word in tokens]\n",
    "training_sentence_lengths = [len(tokens) for tokens in data_train[\"Segmented_Text\"]]\n",
    "TRAINING_VOCAB = sorted(list(set(all_training_words)))\n",
    "print(\"TRAIN DATASET | Total Words:{} | Total Vocabulary:{} | Max Sentence Length:{}\".format(len(all_training_words),len(TRAINING_VOCAB),max(training_sentence_lengths)))\n",
    "\n",
    "all_test_words = [word for tokens in data_test[\"Segmented_Text\"] for word in tokens]\n",
    "test_sentence_lengths = [len(tokens) for tokens in data_test[\"Segmented_Text\"]]\n",
    "TEST_VOCAB = sorted(list(set(all_test_words)))\n",
    "print(\"TEST  DATASET | Total Words:{}  | Total Vocabulary:{} | Max Sentence Length:{}\" .format(len(all_test_words),len(TEST_VOCAB),max(test_sentence_lengths)))"
   ]
  },
  {
   "cell_type": "code",
   "execution_count": 10,
   "metadata": {},
   "outputs": [
    {
     "name": "stdout",
     "output_type": "stream",
     "text": [
      "6051 Vocabularies\n",
      "Top 10 Vocabularies:\n"
     ]
    },
    {
     "data": {
      "text/plain": [
       "[('酒店', 915),\n",
       " ('房间', 756),\n",
       " ('住', 501),\n",
       " ('服务', 444),\n",
       " ('不错', 337),\n",
       " ('说', 275),\n",
       " ('差', 262),\n",
       " ('太', 228),\n",
       " ('房', 222),\n",
       " ('宾馆', 214)]"
      ]
     },
     "execution_count": 10,
     "metadata": {},
     "output_type": "execute_result"
    }
   ],
   "source": [
    "#Setting up Vocabulary Dict\n",
    "vocab = collections.Counter()\n",
    "for twit in data_train.Segmented_Text:\n",
    "    for word in twit:\n",
    "        vocab[word] += 1\n",
    "vocab_len = len(vocab)  \n",
    "print(vocab_len,'Vocabularies')\n",
    "print('Top 10 Vocabularies:')\n",
    "vocab_ls = list(vocab)\n",
    "vocab.most_common(10)"
   ]
  },
  {
   "cell_type": "code",
   "execution_count": 11,
   "metadata": {},
   "outputs": [
    {
     "name": "stdout",
     "output_type": "stream",
     "text": [
      "Getting Train Dataset Word2vec: 800/800 | Vector Shape: (800, 6051)\n",
      "Getting Test Dataset Word2vec: 200/200 | Vector Shape: (200, 6051)\n"
     ]
    }
   ],
   "source": [
    "length = len(data_train.Segmented_Text)\n",
    "word2vec_train = np.zeros([length,vocab_len])\n",
    "k = 0\n",
    "for twit in data_train.Segmented_Text:\n",
    "      k += 1\n",
    "      if k == length:\n",
    "            end_val = ' | '\n",
    "      else:\n",
    "            end_val = '\\r'\n",
    "      print('Getting Train Dataset Word2vec: {}/{}'.format(k,length),end=end_val)\n",
    "      for i in range(len(twit)):\n",
    "            for j in range(vocab_len):\n",
    "                  if twit[i] == vocab_ls[j]:\n",
    "                        #word2vec_train[k-1][j] = 1*vocab[vocab_ls[j]]/vocab_len\n",
    "                        word2vec_train[k-1][j] = 1\n",
    "print('Vector Shape:',word2vec_train.shape)\n",
    "\n",
    "length = len(data_test.Segmented_Text)\n",
    "word2vec_test = np.zeros([length,vocab_len])\n",
    "k = 0\n",
    "for twit in data_test.Segmented_Text:\n",
    "      k += 1\n",
    "      if k == length:\n",
    "            end_val = ' | '\n",
    "      else:\n",
    "            end_val = '\\r'\n",
    "      print('Getting Test Dataset Word2vec: {}/{}'.format(k,length),end=end_val)\n",
    "      for i in range(len(twit)):\n",
    "            for j in range(vocab_len):\n",
    "                  if twit[i] == vocab_ls[j]:\n",
    "                        #word2vec_test[k-1][j] = 1*vocab[vocab_ls[j]]/vocab_len\n",
    "                        word2vec_test[k-1][j] = 1\n",
    "print('Vector Shape:', word2vec_test.shape)\n"
   ]
  },
  {
   "cell_type": "code",
   "execution_count": 33,
   "metadata": {},
   "outputs": [],
   "source": [
    "def preprocess(data_vector):  #data:list | vocab:torchtext.legacy.vocab.Vocab\n",
    "    max_l = 500  \n",
    "    def set_same_length(x):   #将每条评论通过截断或者补0，使得长度变成500\n",
    "        return x[:max_l] if len(x) > max_l else x + [0] * (max_l - len(x))  \n",
    "    features = [set_same_length(words) for words in data_vector]\n",
    "    return np.array(features)"
   ]
  },
  {
   "cell_type": "code",
   "execution_count": 56,
   "metadata": {},
   "outputs": [
    {
     "data": {
      "text/plain": [
       "500"
      ]
     },
     "execution_count": 56,
     "metadata": {},
     "output_type": "execute_result"
    }
   ],
   "source": [
    "X_train, X_test = preprocess(word2vec_train), preprocess(word2vec_test)\n",
    "y_train, y_test = np.array(data_train['Label']), np.array(data_test['Label'])\n",
    "X_train.shape[1]"
   ]
  },
  {
   "cell_type": "code",
   "execution_count": 48,
   "metadata": {},
   "outputs": [],
   "source": [
    "class LogisticRegression_:\n",
    "    \n",
    "    # defining parameters such as learning rate, number ot iterations, whether to include intercept, \n",
    "    # and verbose which says whether to print anything or not like, loss etc.\n",
    "    def __init__(self, learning_rate=0.01, num_iterations=50000, fit_intercept=True, verbose=False):\n",
    "        self.learning_rate = learning_rate\n",
    "        self.num_iterations = num_iterations\n",
    "        self.fit_intercept = fit_intercept\n",
    "        self.verbose = verbose\n",
    "    \n",
    "    # function to define the Incercept value.\n",
    "    def __b_intercept(self, X):\n",
    "        # initially we set it as all 1's\n",
    "        intercept = np.ones((X.shape[0], 1))\n",
    "        # then we concatinate them to the value of X, we don't add we just append them at the end.\n",
    "        return np.concatenate((intercept, X), axis=1)\n",
    "    \n",
    "    def __sigmoid_function(self, z):\n",
    "        # this is our actual sigmoid function which predicts our yp\n",
    "        return 1 / (1 + np.exp(-z))\n",
    "    \n",
    "    def __loss(self, yp, y):\n",
    "        # this is the loss function which we use to minimize the error of our model\n",
    "        return (-y * np.log(yp) - (1 - y) * np.log(1 - yp)).mean()\n",
    "\n",
    "    # this is the function which trains our model.\n",
    "    def fit(self, X, y):\n",
    "        \n",
    "        # as said if we want our intercept term to be added we use fit_intercept=True\n",
    "        if self.fit_intercept:\n",
    "            X = self.__b_intercept(X)\n",
    "        \n",
    "        # weights initialization of our Normal Vector, initially we set it to 0, then we learn it eventually\n",
    "        self.W = np.zeros(X.shape[1])\n",
    "        \n",
    "        # this for loop runs for the number of iterations provided\n",
    "        for i in range(self.num_iterations):\n",
    "            \n",
    "            # this is our W * Xi\n",
    "            z = np.dot(X, self.W)\n",
    "            \n",
    "            # this is where we predict the values of Y based on W and Xi\n",
    "            yp = self.__sigmoid_function(z)\n",
    "            \n",
    "            # this is where the gradient is calculated form the error generated by our model\n",
    "            gradient = np.dot(X.T, (yp - y)) / y.size\n",
    "            \n",
    "            # this is where we update our values of W, so that we can use the new values for the next iteration\n",
    "            self.W -= self.learning_rate * gradient\n",
    "            \n",
    "            # this is our new W * Xi\n",
    "            z = np.dot(X, self.W)\n",
    "            yp = self.__sigmoid_function(z)\n",
    "\n",
    "            # this is where the loss is calculated\n",
    "            loss = self.__loss(yp, y)\n",
    "            \n",
    "            # as mentioned above if we want to print somehting we use verbose, so if verbose=True then our loss get printed\n",
    "            if(self.verbose ==True and i % 10000 == 0):\n",
    "                print(f'loss: {loss} \\t')\n",
    "\n",
    "    # this is where we predict the probability values based on out generated W values out of all those iterations.\n",
    "    def predict_prob(self, X):\n",
    "        # as said if we want our intercept term to be added we use fit_intercept=True\n",
    "        if self.fit_intercept:\n",
    "            X = self.__b_intercept(X)\n",
    "        \n",
    "        # this is the final prediction that is generated based on the values learned.\n",
    "        return self.__sigmoid_function(np.dot(X, self.W))\n",
    "    \n",
    "    # this is where we predict the actual values 0 or 1 using round. anything less than 0.5 = 0 or more than 0.5 is 1\n",
    "    def predict(self, X):\n",
    "        return self.predict_prob(X).round()"
   ]
  },
  {
   "cell_type": "code",
   "execution_count": 49,
   "metadata": {},
   "outputs": [],
   "source": [
    "model = LogisticRegression_(learning_rate=0.1, num_iterations=30000)"
   ]
  },
  {
   "cell_type": "code",
   "execution_count": 50,
   "metadata": {},
   "outputs": [
    {
     "name": "stderr",
     "output_type": "stream",
     "text": [
      "C:\\Users\\User\\AppData\\Roaming\\Python\\Python37\\site-packages\\ipykernel_launcher.py:20: RuntimeWarning: overflow encountered in exp\n",
      "C:\\Users\\User\\AppData\\Roaming\\Python\\Python37\\site-packages\\ipykernel_launcher.py:24: RuntimeWarning: divide by zero encountered in log\n",
      "d:\\Downloads\\python3.7\\lib\\site-packages\\numpy\\core\\_methods.py:179: RuntimeWarning: invalid value encountered in reduce\n",
      "  ret = umr_sum(arr, axis, dtype, out, keepdims, where=where)\n"
     ]
    },
    {
     "name": "stdout",
     "output_type": "stream",
     "text": [
      "Wall time: 13.9 s\n"
     ]
    }
   ],
   "source": [
    "%%time\n",
    "model.fit(X_train, y_train)"
   ]
  },
  {
   "cell_type": "code",
   "execution_count": 51,
   "metadata": {},
   "outputs": [
    {
     "name": "stderr",
     "output_type": "stream",
     "text": [
      "C:\\Users\\User\\AppData\\Roaming\\Python\\Python37\\site-packages\\ipykernel_launcher.py:20: RuntimeWarning: overflow encountered in exp\n"
     ]
    },
    {
     "data": {
      "text/plain": [
       "0.0"
      ]
     },
     "execution_count": 51,
     "metadata": {},
     "output_type": "execute_result"
    }
   ],
   "source": [
    "preds = model.predict(X_test)\n",
    "(preds == y_test).mean()"
   ]
  },
  {
   "cell_type": "code",
   "execution_count": 52,
   "metadata": {},
   "outputs": [
    {
     "name": "stdout",
     "output_type": "stream",
     "text": [
      "              precision    recall  f1-score   support\n",
      "\n",
      "        -1.0       0.00      0.00      0.00      90.0\n",
      "         0.0       0.00      0.00      0.00       0.0\n",
      "         1.0       0.00      0.00      0.00     110.0\n",
      "\n",
      "    accuracy                           0.00     200.0\n",
      "   macro avg       0.00      0.00      0.00     200.0\n",
      "weighted avg       0.00      0.00      0.00     200.0\n",
      "\n"
     ]
    },
    {
     "name": "stderr",
     "output_type": "stream",
     "text": [
      "C:\\Users\\User\\AppData\\Roaming\\Python\\Python37\\site-packages\\ipykernel_launcher.py:20: RuntimeWarning: overflow encountered in exp\n",
      "d:\\Downloads\\python3.7\\lib\\site-packages\\sklearn\\metrics\\_classification.py:1318: UndefinedMetricWarning: Precision and F-score are ill-defined and being set to 0.0 in labels with no predicted samples. Use `zero_division` parameter to control this behavior.\n",
      "  _warn_prf(average, modifier, msg_start, len(result))\n",
      "d:\\Downloads\\python3.7\\lib\\site-packages\\sklearn\\metrics\\_classification.py:1318: UndefinedMetricWarning: Recall and F-score are ill-defined and being set to 0.0 in labels with no true samples. Use `zero_division` parameter to control this behavior.\n",
      "  _warn_prf(average, modifier, msg_start, len(result))\n",
      "d:\\Downloads\\python3.7\\lib\\site-packages\\sklearn\\metrics\\_classification.py:1318: UndefinedMetricWarning: Precision and F-score are ill-defined and being set to 0.0 in labels with no predicted samples. Use `zero_division` parameter to control this behavior.\n",
      "  _warn_prf(average, modifier, msg_start, len(result))\n",
      "d:\\Downloads\\python3.7\\lib\\site-packages\\sklearn\\metrics\\_classification.py:1318: UndefinedMetricWarning: Recall and F-score are ill-defined and being set to 0.0 in labels with no true samples. Use `zero_division` parameter to control this behavior.\n",
      "  _warn_prf(average, modifier, msg_start, len(result))\n",
      "d:\\Downloads\\python3.7\\lib\\site-packages\\sklearn\\metrics\\_classification.py:1318: UndefinedMetricWarning: Precision and F-score are ill-defined and being set to 0.0 in labels with no predicted samples. Use `zero_division` parameter to control this behavior.\n",
      "  _warn_prf(average, modifier, msg_start, len(result))\n",
      "d:\\Downloads\\python3.7\\lib\\site-packages\\sklearn\\metrics\\_classification.py:1318: UndefinedMetricWarning: Recall and F-score are ill-defined and being set to 0.0 in labels with no true samples. Use `zero_division` parameter to control this behavior.\n",
      "  _warn_prf(average, modifier, msg_start, len(result))\n"
     ]
    }
   ],
   "source": [
    "from sklearn.metrics import classification_report, confusion_matrix\n",
    "print(classification_report(y_test, model.predict(X_test)))"
   ]
  },
  {
   "cell_type": "code",
   "execution_count": 53,
   "metadata": {},
   "outputs": [
    {
     "name": "stdout",
     "output_type": "stream",
     "text": [
      "Importing Logistic Regression Model\n",
      "Coefficients: [[-0.17568586  0.49225183 -0.45599671  0.30097369 -0.1638631   0.33767669\n",
      "   0.0407593  -0.52323747  0.21060834 -0.33735663 -0.73626777  0.27084881\n",
      "  -0.24751186 -0.15148616  0.37974569  0.54458144  0.33280253 -0.11882221\n",
      "   0.05910231 -0.76536397 -0.17745679 -0.15280842  0.22242455 -0.14298472\n",
      "   0.07386455  0.19753083 -0.14322125 -0.43348472 -0.15148616 -0.15148616\n",
      "  -0.15148616  0.18651403 -0.07015757  0.12975248  0.02814355 -0.14129276\n",
      "  -0.24601196 -0.19804222 -0.46968628  0.38748435  0.42001384 -0.22573736\n",
      "   0.29810968  0.31186421 -0.00196985  0.43901861  0.12028254  0.31186421\n",
      "   0.31186421 -0.80117665 -0.1848918  -0.6529479   0.31186421  0.24862942\n",
      "   0.01586296 -0.17822889 -0.64089157 -0.4341945   0.53271523  0.21434434\n",
      "   0.01957897  0.30337923  0.04583407  0.79920745 -0.15405928 -0.26858628\n",
      "   0.16459842 -0.02807628  0.65799871  0.03757108  0.12558826 -0.56341648\n",
      "   0.4156013  -0.29976014 -0.51054637  0.34405178  0.22727567  0.02951102\n",
      "  -0.12651315  0.0129435  -0.57632552 -0.31824978 -0.50803167  0.64700363\n",
      "   0.09778745 -0.75264738 -0.0286167  -0.12651315 -0.47630201 -0.00319027\n",
      "   0.08576949 -0.30153081 -0.09628641 -0.5528006   0.72958132 -0.07227162\n",
      "   0.04823395 -0.18737773 -0.11208908 -0.69634792 -0.1088974   0.2223108\n",
      "   0.60361779  0.10812193 -0.12651315 -0.12651315 -0.07445538  0.12678259\n",
      "   0.46542503 -0.06896333 -0.23590368  0.41930128 -0.15472947 -0.59043193\n",
      "   0.44747922  0.74617085  0.27891672  0.07086886  0.07086886 -0.06117864\n",
      "   0.4396897   0.20993768 -0.26419107  0.34508044  0.32287044 -0.07727847\n",
      "   0.00744715 -0.04967176 -0.57727221  0.53703927 -0.10841762 -0.63712269\n",
      "  -0.40058741  0.27576919  0.1816963   0.07086886 -0.47992131  0.36256863\n",
      "  -0.66213357  0.2268316   0.07086886  0.53365467  0.26889    -0.10951855\n",
      "   0.05302539 -1.20472584  0.06679437  0.06336558  0.43963909  0.58492543\n",
      "  -0.36552313  0.23264182 -0.3013226   0.62338228  0.78451567 -0.25867172\n",
      "  -0.25614011  0.10446579  0.18958348  0.05711533  0.13894287  0.13894287\n",
      "   0.13894287  0.13467838 -0.36716797  0.56549233 -0.1508053   0.27894066\n",
      "  -0.21303917 -0.28809765  0.9229469  -0.1508053  -0.39656446 -0.37449044\n",
      "  -0.1508053  -0.1508053  -0.45574888  0.13116089 -0.13322194 -0.1508053\n",
      "  -0.17349192 -1.06778998  0.00744951  0.20490448  0.14723881 -0.15861234\n",
      "  -0.1508053  -0.92542861 -0.1508053   0.74023054  0.26242928  0.53402485\n",
      "   0.27188232 -0.08014917 -0.1508053  -0.80776113 -0.23862655 -0.00794192\n",
      "  -0.10591759 -0.1508053   0.17596635  0.25770968  0.17450824 -0.06184885\n",
      "  -0.41642497  0.90372449 -0.13404564 -0.15372547  0.09335233  0.73891808\n",
      "   0.3083175   0.59456994 -0.08953376  0.03322693  0.03161437 -0.26204192\n",
      "  -0.37427751 -0.05953481  0.12942621  0.04133705  0.30484997  0.13839242\n",
      "  -0.1508053   0.26154319 -0.1508053   0.77377776  0.18794881 -0.28064443\n",
      "  -0.1508053   0.77049137 -0.2385687  -0.13550468 -0.09162016 -0.10665229\n",
      "  -0.30098704 -0.01977472 -0.39261878  0.17430692 -0.06976143  0.43166648\n",
      "  -0.22291085 -0.11641377  0.01730236 -0.01510762 -0.01510762 -0.37027288\n",
      "  -0.45604042  0.29946443 -0.5246094  -0.01510762  0.13139489  0.12274479\n",
      "  -0.01510762  0.27542346 -0.21602343 -0.22240591  0.10267065  0.30685041\n",
      "  -0.23617977 -0.83448242  0.47251277 -0.19439409 -0.01510762 -0.01510762\n",
      "  -0.13059391 -0.01510762 -0.94656046 -0.656657   -0.25702948 -0.19333031\n",
      "  -0.01510762  0.05322589 -0.44210643 -0.40663269  0.05969148  0.05969148\n",
      "  -0.27689815 -0.72395287  0.93890638  0.6171289   0.05969148  0.22808745\n",
      "   0.53651574  0.90584426 -0.02503279 -0.20012558 -0.14648007  0.54671656\n",
      "  -0.02168269  0.2147286  -0.29795466 -0.34156353  0.62129049  0.05969148\n",
      "   0.2999452  -1.08681346  0.59132584 -0.4957309   0.25943447 -0.54522225\n",
      "   0.28649731  0.05969148  0.05969148 -0.09351604  0.5148279   0.88303991\n",
      "   0.13742823 -0.02350188 -0.90643181 -0.36462626 -0.41219063 -0.41219063\n",
      "   0.29828227  0.3289095  -0.22158262  0.13975331  0.16940604  0.37119702\n",
      "  -0.02752233 -0.41219063  0.77990928 -0.17306448 -0.50967892  0.06698914\n",
      "  -0.20229731 -0.57213359  0.2499648   0.79933589 -1.1189029  -0.27104286\n",
      "   0.12610769  0.01391001 -0.20229731  0.63442349 -0.20229731 -0.20229731\n",
      "  -0.6260069   0.02850929 -0.20349428 -0.06209362 -0.67277921  0.12771219\n",
      "   0.37367284  0.21347602  0.53639189  0.07627911 -0.2590829   0.03838244\n",
      "  -0.02055507 -0.02055507 -0.02055507  0.08144986 -0.65726911  0.06955211\n",
      "   0.10178446 -0.02055507 -0.33637672  0.82693383 -0.51259564 -0.02055507\n",
      "  -0.02055507  0.28373651 -0.02055507 -0.37744093 -0.02055507  0.07028366\n",
      "  -0.06020309 -0.02055507 -0.50177794 -0.28877974 -0.31557651 -0.28106661\n",
      "  -0.02055507 -0.02055507 -0.02055507 -0.06445872  0.07028366  0.20726895\n",
      "   0.25158408 -0.02055507 -0.05621422 -0.25087876 -0.02055507  0.42268048\n",
      "   0.39258797 -0.02055507  0.42072386 -0.02055507 -0.32404152 -0.36202307\n",
      "  -0.02055507 -0.30936374  0.30784993  0.32799226 -0.02055507 -0.25087876\n",
      "   0.65566609 -0.34234572 -0.89491742 -0.57237534 -0.3049584   0.29692405\n",
      "   0.08297113 -0.02055507 -0.5439309   1.02397411  0.1415959  -0.02055507\n",
      "  -0.06167874 -0.41794022 -0.0238422  -0.1635924  -0.15628119 -0.02055507\n",
      "   0.32203329 -0.20312502  0.44138963  0.10684839 -0.21447724  0.30247435\n",
      "   0.14177496 -0.01582039  0.16627298 -0.33820291  0.06186372  0.97273965\n",
      "   0.21707758  0.21707758 -0.94158893 -0.06896079  0.60199198  0.35313764\n",
      "   0.24564202  0.04459008  0.61716784 -0.17623965  0.27000408  0.04459008\n",
      "   0.04459008  0.62095298 -0.53484388 -0.83372756 -0.05972129  0.18336487\n",
      "   0.04459008  0.04459008 -0.66561661  0.04459008 -0.40464265 -0.1270213\n",
      "   0.04459008  0.04459008  0.04459008  0.10152284  0.04459008  0.04459008\n",
      "   0.04459008  0.071854    0.04459008  0.0019443   0.02349615  0.60885131\n",
      "  -0.00852343 -0.28230892 -0.32771639 -0.75760158 -0.08087686  0.19856388\n",
      "   0.47524999  0.99269611  0.34583926  0.04459008  0.04459008  0.04459008\n",
      "   0.04459008  0.36777431 -0.46790372  0.44317472  0.31072452  0.27395326\n",
      "   0.31022107  0.2872384  -0.4341122  -0.0290374   0.38929803 -0.65205962\n",
      "   0.05405151 -0.24865957 -0.03089863 -0.51699214 -0.11729699 -0.10939336\n",
      "  -0.57978317  0.17828478 -0.2371919   0.04459008  1.19541158  0.04459008\n",
      "   0.04459008  0.04459008]]\n",
      "Train Accuracy Score: 0.76125\n",
      "Test Accuracy Score: 0.46\n"
     ]
    }
   ],
   "source": [
    "print('Importing Logistic Regression Model')\n",
    "from sklearn.linear_model import LogisticRegression\n",
    "from sklearn.metrics import log_loss\n",
    "log = LogisticRegression().fit(X_train,y_train)\n",
    "# regression coefficients\n",
    "print('Coefficients:', log.coef_)\n",
    "print('Train Accuracy Score: {}'.format(log.score(X_train, y_train)))\n",
    "print('Test Accuracy Score: {}'.format(log.score(X_test, y_test)))"
   ]
  },
  {
   "cell_type": "code",
   "execution_count": 54,
   "metadata": {},
   "outputs": [
    {
     "data": {
      "text/html": [
       "<div class=\"bk-root\">\n",
       "        <a href=\"https://bokeh.org\" target=\"_blank\" class=\"bk-logo bk-logo-small bk-logo-notebook\"></a>\n",
       "        <span id=\"1091\">Loading BokehJS ...</span>\n",
       "    </div>\n"
      ]
     },
     "metadata": {},
     "output_type": "display_data"
    },
    {
     "data": {
      "application/javascript": "(function(root) {\n  function now() {\n    return new Date();\n  }\n\n  const force = true;\n\n  if (typeof root._bokeh_onload_callbacks === \"undefined\" || force === true) {\n    root._bokeh_onload_callbacks = [];\n    root._bokeh_is_loading = undefined;\n  }\n\nconst JS_MIME_TYPE = 'application/javascript';\n  const HTML_MIME_TYPE = 'text/html';\n  const EXEC_MIME_TYPE = 'application/vnd.bokehjs_exec.v0+json';\n  const CLASS_NAME = 'output_bokeh rendered_html';\n\n  /**\n   * Render data to the DOM node\n   */\n  function render(props, node) {\n    const script = document.createElement(\"script\");\n    node.appendChild(script);\n  }\n\n  /**\n   * Handle when an output is cleared or removed\n   */\n  function handleClearOutput(event, handle) {\n    const cell = handle.cell;\n\n    const id = cell.output_area._bokeh_element_id;\n    const server_id = cell.output_area._bokeh_server_id;\n    // Clean up Bokeh references\n    if (id != null && id in Bokeh.index) {\n      Bokeh.index[id].model.document.clear();\n      delete Bokeh.index[id];\n    }\n\n    if (server_id !== undefined) {\n      // Clean up Bokeh references\n      const cmd_clean = \"from bokeh.io.state import curstate; print(curstate().uuid_to_server['\" + server_id + \"'].get_sessions()[0].document.roots[0]._id)\";\n      cell.notebook.kernel.execute(cmd_clean, {\n        iopub: {\n          output: function(msg) {\n            const id = msg.content.text.trim();\n            if (id in Bokeh.index) {\n              Bokeh.index[id].model.document.clear();\n              delete Bokeh.index[id];\n            }\n          }\n        }\n      });\n      // Destroy server and session\n      const cmd_destroy = \"import bokeh.io.notebook as ion; ion.destroy_server('\" + server_id + \"')\";\n      cell.notebook.kernel.execute(cmd_destroy);\n    }\n  }\n\n  /**\n   * Handle when a new output is added\n   */\n  function handleAddOutput(event, handle) {\n    const output_area = handle.output_area;\n    const output = handle.output;\n\n    // limit handleAddOutput to display_data with EXEC_MIME_TYPE content only\n    if ((output.output_type != \"display_data\") || (!Object.prototype.hasOwnProperty.call(output.data, EXEC_MIME_TYPE))) {\n      return\n    }\n\n    const toinsert = output_area.element.find(\".\" + CLASS_NAME.split(' ')[0]);\n\n    if (output.metadata[EXEC_MIME_TYPE][\"id\"] !== undefined) {\n      toinsert[toinsert.length - 1].firstChild.textContent = output.data[JS_MIME_TYPE];\n      // store reference to embed id on output_area\n      output_area._bokeh_element_id = output.metadata[EXEC_MIME_TYPE][\"id\"];\n    }\n    if (output.metadata[EXEC_MIME_TYPE][\"server_id\"] !== undefined) {\n      const bk_div = document.createElement(\"div\");\n      bk_div.innerHTML = output.data[HTML_MIME_TYPE];\n      const script_attrs = bk_div.children[0].attributes;\n      for (let i = 0; i < script_attrs.length; i++) {\n        toinsert[toinsert.length - 1].firstChild.setAttribute(script_attrs[i].name, script_attrs[i].value);\n        toinsert[toinsert.length - 1].firstChild.textContent = bk_div.children[0].textContent\n      }\n      // store reference to server id on output_area\n      output_area._bokeh_server_id = output.metadata[EXEC_MIME_TYPE][\"server_id\"];\n    }\n  }\n\n  function register_renderer(events, OutputArea) {\n\n    function append_mime(data, metadata, element) {\n      // create a DOM node to render to\n      const toinsert = this.create_output_subarea(\n        metadata,\n        CLASS_NAME,\n        EXEC_MIME_TYPE\n      );\n      this.keyboard_manager.register_events(toinsert);\n      // Render to node\n      const props = {data: data, metadata: metadata[EXEC_MIME_TYPE]};\n      render(props, toinsert[toinsert.length - 1]);\n      element.append(toinsert);\n      return toinsert\n    }\n\n    /* Handle when an output is cleared or removed */\n    events.on('clear_output.CodeCell', handleClearOutput);\n    events.on('delete.Cell', handleClearOutput);\n\n    /* Handle when a new output is added */\n    events.on('output_added.OutputArea', handleAddOutput);\n\n    /**\n     * Register the mime type and append_mime function with output_area\n     */\n    OutputArea.prototype.register_mime_type(EXEC_MIME_TYPE, append_mime, {\n      /* Is output safe? */\n      safe: true,\n      /* Index of renderer in `output_area.display_order` */\n      index: 0\n    });\n  }\n\n  // register the mime type if in Jupyter Notebook environment and previously unregistered\n  if (root.Jupyter !== undefined) {\n    const events = require('base/js/events');\n    const OutputArea = require('notebook/js/outputarea').OutputArea;\n\n    if (OutputArea.prototype.mime_types().indexOf(EXEC_MIME_TYPE) == -1) {\n      register_renderer(events, OutputArea);\n    }\n  }\n  if (typeof (root._bokeh_timeout) === \"undefined\" || force === true) {\n    root._bokeh_timeout = Date.now() + 5000;\n    root._bokeh_failed_load = false;\n  }\n\n  const NB_LOAD_WARNING = {'data': {'text/html':\n     \"<div style='background-color: #fdd'>\\n\"+\n     \"<p>\\n\"+\n     \"BokehJS does not appear to have successfully loaded. If loading BokehJS from CDN, this \\n\"+\n     \"may be due to a slow or bad network connection. Possible fixes:\\n\"+\n     \"</p>\\n\"+\n     \"<ul>\\n\"+\n     \"<li>re-rerun `output_notebook()` to attempt to load from CDN again, or</li>\\n\"+\n     \"<li>use INLINE resources instead, as so:</li>\\n\"+\n     \"</ul>\\n\"+\n     \"<code>\\n\"+\n     \"from bokeh.resources import INLINE\\n\"+\n     \"output_notebook(resources=INLINE)\\n\"+\n     \"</code>\\n\"+\n     \"</div>\"}};\n\n  function display_loaded() {\n    const el = document.getElementById(\"1091\");\n    if (el != null) {\n      el.textContent = \"BokehJS is loading...\";\n    }\n    if (root.Bokeh !== undefined) {\n      if (el != null) {\n        el.textContent = \"BokehJS \" + root.Bokeh.version + \" successfully loaded.\";\n      }\n    } else if (Date.now() < root._bokeh_timeout) {\n      setTimeout(display_loaded, 100)\n    }\n  }\n\n  function run_callbacks() {\n    try {\n      root._bokeh_onload_callbacks.forEach(function(callback) {\n        if (callback != null)\n          callback();\n      });\n    } finally {\n      delete root._bokeh_onload_callbacks\n    }\n    console.debug(\"Bokeh: all callbacks have finished\");\n  }\n\n  function load_libs(css_urls, js_urls, callback) {\n    if (css_urls == null) css_urls = [];\n    if (js_urls == null) js_urls = [];\n\n    root._bokeh_onload_callbacks.push(callback);\n    if (root._bokeh_is_loading > 0) {\n      console.debug(\"Bokeh: BokehJS is being loaded, scheduling callback at\", now());\n      return null;\n    }\n    if (js_urls == null || js_urls.length === 0) {\n      run_callbacks();\n      return null;\n    }\n    console.debug(\"Bokeh: BokehJS not loaded, scheduling load and callback at\", now());\n    root._bokeh_is_loading = css_urls.length + js_urls.length;\n\n    function on_load() {\n      root._bokeh_is_loading--;\n      if (root._bokeh_is_loading === 0) {\n        console.debug(\"Bokeh: all BokehJS libraries/stylesheets loaded\");\n        run_callbacks()\n      }\n    }\n\n    function on_error(url) {\n      console.error(\"failed to load \" + url);\n    }\n\n    for (let i = 0; i < css_urls.length; i++) {\n      const url = css_urls[i];\n      const element = document.createElement(\"link\");\n      element.onload = on_load;\n      element.onerror = on_error.bind(null, url);\n      element.rel = \"stylesheet\";\n      element.type = \"text/css\";\n      element.href = url;\n      console.debug(\"Bokeh: injecting link tag for BokehJS stylesheet: \", url);\n      document.body.appendChild(element);\n    }\n\n    for (let i = 0; i < js_urls.length; i++) {\n      const url = js_urls[i];\n      const element = document.createElement('script');\n      element.onload = on_load;\n      element.onerror = on_error.bind(null, url);\n      element.async = false;\n      element.src = url;\n      console.debug(\"Bokeh: injecting script tag for BokehJS library: \", url);\n      document.head.appendChild(element);\n    }\n  };\n\n  function inject_raw_css(css) {\n    const element = document.createElement(\"style\");\n    element.appendChild(document.createTextNode(css));\n    document.body.appendChild(element);\n  }\n\n  const js_urls = [\"https://cdn.bokeh.org/bokeh/release/bokeh-2.4.3.min.js\", \"https://cdn.bokeh.org/bokeh/release/bokeh-gl-2.4.3.min.js\", \"https://cdn.bokeh.org/bokeh/release/bokeh-widgets-2.4.3.min.js\", \"https://cdn.bokeh.org/bokeh/release/bokeh-tables-2.4.3.min.js\", \"https://cdn.bokeh.org/bokeh/release/bokeh-mathjax-2.4.3.min.js\"];\n  const css_urls = [];\n\n  const inline_js = [    function(Bokeh) {\n      Bokeh.set_log_level(\"info\");\n    },\nfunction(Bokeh) {\n    }\n  ];\n\n  function run_inline_js() {\n    if (root.Bokeh !== undefined || force === true) {\n          for (let i = 0; i < inline_js.length; i++) {\n      inline_js[i].call(root, root.Bokeh);\n    }\nif (force === true) {\n        display_loaded();\n      }} else if (Date.now() < root._bokeh_timeout) {\n      setTimeout(run_inline_js, 100);\n    } else if (!root._bokeh_failed_load) {\n      console.log(\"Bokeh: BokehJS failed to load within specified timeout.\");\n      root._bokeh_failed_load = true;\n    } else if (force !== true) {\n      const cell = $(document.getElementById(\"1091\")).parents('.cell').data().cell;\n      cell.output_area.append_execute_result(NB_LOAD_WARNING)\n    }\n  }\n\n  if (root._bokeh_is_loading === 0) {\n    console.debug(\"Bokeh: BokehJS loaded, going straight to plotting\");\n    run_inline_js();\n  } else {\n    load_libs(css_urls, js_urls, function() {\n      console.debug(\"Bokeh: BokehJS plotting callback run at\", now());\n      run_inline_js();\n    });\n  }\n}(window));",
      "application/vnd.bokehjs_load.v0+json": ""
     },
     "metadata": {},
     "output_type": "display_data"
    }
   ],
   "source": [
    "from bokeh.models import ColumnDataSource, LabelSet\n",
    "from bokeh.plotting import figure, show, output_file\n",
    "from bokeh.io import output_notebook\n",
    "output_notebook()"
   ]
  },
  {
   "cell_type": "code",
   "execution_count": 55,
   "metadata": {},
   "outputs": [
    {
     "data": {
      "text/html": [
       "\n",
       "  <div class=\"bk-root\" id=\"060d8a80-d17b-4bb7-82e8-847684b64cf6\" data-root-id=\"1092\"></div>\n"
      ]
     },
     "metadata": {},
     "output_type": "display_data"
    },
    {
     "data": {
      "application/javascript": "(function(root) {\n  function embed_document(root) {\n  const docs_json = {\"671061d8-e2cb-42b2-8cbd-d50ff98ef17b\":{\"defs\":[],\"roots\":{\"references\":[{\"attributes\":{\"below\":[{\"id\":\"1103\"}],\"center\":[{\"id\":\"1106\"},{\"id\":\"1110\"}],\"left\":[{\"id\":\"1107\"}],\"renderers\":[{\"id\":\"1124\"}],\"title\":{\"id\":\"1093\"},\"toolbar\":{\"id\":\"1115\"},\"toolbar_location\":\"above\",\"x_range\":{\"id\":\"1095\"},\"x_scale\":{\"id\":\"1099\"},\"y_range\":{\"id\":\"1097\"},\"y_scale\":{\"id\":\"1101\"}},\"id\":\"1092\",\"subtype\":\"Figure\",\"type\":\"Plot\"},{\"attributes\":{},\"id\":\"1112\",\"type\":\"WheelZoomTool\"},{\"attributes\":{\"tools\":[{\"id\":\"1111\"},{\"id\":\"1112\"},{\"id\":\"1113\"},{\"id\":\"1114\"}]},\"id\":\"1115\",\"type\":\"Toolbar\"},{\"attributes\":{},\"id\":\"1097\",\"type\":\"DataRange1d\"},{\"attributes\":{},\"id\":\"1140\",\"type\":\"BasicTickFormatter\"},{\"attributes\":{},\"id\":\"1099\",\"type\":\"LinearScale\"},{\"attributes\":{\"coordinates\":null,\"group\":null,\"text\":\"Word distribution accross all sentences\"},\"id\":\"1093\",\"type\":\"Title\"},{\"attributes\":{},\"id\":\"1113\",\"type\":\"ResetTool\"},{\"attributes\":{\"source\":{\"id\":\"1120\"}},\"id\":\"1125\",\"type\":\"CDSView\"},{\"attributes\":{\"bottom\":{\"value\":0},\"fill_alpha\":{\"value\":0.2},\"fill_color\":{\"value\":\"#1f77b4\"},\"hatch_alpha\":{\"value\":0.2},\"left\":{\"field\":\"left\"},\"line_alpha\":{\"value\":0.2},\"line_color\":{\"value\":\"#555555\"},\"right\":{\"field\":\"right\"},\"top\":{\"field\":\"top\"}},\"id\":\"1123\",\"type\":\"Quad\"},{\"attributes\":{},\"id\":\"1101\",\"type\":\"LinearScale\"},{\"attributes\":{\"bottom\":{\"value\":0},\"fill_alpha\":{\"value\":0.1},\"fill_color\":{\"value\":\"#1f77b4\"},\"hatch_alpha\":{\"value\":0.1},\"left\":{\"field\":\"left\"},\"line_alpha\":{\"value\":0.1},\"line_color\":{\"value\":\"#555555\"},\"right\":{\"field\":\"right\"},\"top\":{\"field\":\"top\"}},\"id\":\"1122\",\"type\":\"Quad\"},{\"attributes\":{\"bottom\":{\"value\":0},\"fill_color\":{\"value\":\"#1f77b4\"},\"left\":{\"field\":\"left\"},\"line_color\":{\"value\":\"#555555\"},\"right\":{\"field\":\"right\"},\"top\":{\"field\":\"top\"}},\"id\":\"1121\",\"type\":\"Quad\"},{\"attributes\":{},\"id\":\"1108\",\"type\":\"BasicTicker\"},{\"attributes\":{},\"id\":\"1142\",\"type\":\"UnionRenderers\"},{\"attributes\":{\"axis\":{\"id\":\"1107\"},\"coordinates\":null,\"dimension\":1,\"group\":null,\"ticker\":null},\"id\":\"1110\",\"type\":\"Grid\"},{\"attributes\":{\"coordinates\":null,\"data_source\":{\"id\":\"1120\"},\"glyph\":{\"id\":\"1121\"},\"group\":null,\"hover_glyph\":null,\"muted_glyph\":{\"id\":\"1123\"},\"nonselection_glyph\":{\"id\":\"1122\"},\"view\":{\"id\":\"1125\"}},\"id\":\"1124\",\"type\":\"GlyphRenderer\"},{\"attributes\":{},\"id\":\"1111\",\"type\":\"PanTool\"},{\"attributes\":{},\"id\":\"1141\",\"type\":\"AllLabels\"},{\"attributes\":{\"data\":{\"left\":{\"__ndarray__\":\"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\",\"dtype\":\"float64\",\"order\":\"little\",\"shape\":[500]},\"right\":{\"__ndarray__\":\"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\",\"dtype\":\"float64\",\"order\":\"little\",\"shape\":[500]},\"top\":{\"__ndarray__\":\"vUZ/X8HRQUAAAAAAAAAAAAAAAAAAAAAAAAAAAAAAAAAAAAAAAAAAAAAAAAAAAAAAAAAAAAAAAAAAAAAAAAAAAAAAAAAAAAAAAAAAAAAAAAAAAAAAAAAAAAAAAAAAAAAAAAAAAAAAAAAAAAAAAAAAAAAAAAAAAAAAAAAAAAAAAAAAAAAAAAAAAAAAAAAAAAAAAAAAAAAAAAAAAAAAAAAAAAAAAAAAAAAAAAAAAAAAAAAAAAAAAAAAAAAAAAAAAAAAAAAAAAAAAAAAAAAAAAAAAAAAAAAAAAAAAAAAAAAAAAAAAAAAAAAAAAAAAAAAAAAAAAAAAAAAAAAAAAAAAAAAAAAAAAAAAAAAAAAAAAAAAAAAAAAAAAAAAAAAAAAAAAAAAAAAAAAAAAAAAAAAAAAAAAAAAAAAAAAAAAAAAAAAAAAAAAAAAAAAAAAAAAAAAAAAAAAAAAAAAAAAAAAAAAAAAAAAAAAAAAAAAAAAAAAAAAAAAAAAAAAAAAAAAAAAAAAAAAAAAAAAAAAAAAAAAAAAAANzIa4XbC1AAAAAAAAAAAAAAAAAAAAAAAAAAAAAAAAAAAAAAAAAAAAAAAAAAAAAAAAAAAAAAAAAAAAAAAAAAAAAAAAAAAAAAAAAAAAAAAAAAAAAAAAAAAAAAAAAAAAAAAAAAAAAAAAAAAAAAAAAAAAAAAAAAAAAAAAAAAAAAAAAAAAAAAAAAAAAAAAAAAAAAAAAAAAAAAAAAAAAAAAAAAAAAAAAAAAAAAAAAAAAAAAAAAAAAAAAAAAAAAAAAAAAAAAAAAAAAAAAAAAAAAAAAAAAAAAAAAAAAAAAAAAAAAAAAAAAAAAAAAAAAAAAAAAAANTIEHHszxVAAAAAAAAAAAAAAAAAAAAAAAAAAAAAAAAAAAAAAAAAAAAAAAAAAAAAAAAAAAAAAAAAAAAAAAAAAAAAAAAAAAAAAAAAAAAAAAAAAAAAAAAAAAAAAAAAAAAAAAAAAAAAAAAAAAAAAAAAAAAAAAAAAAAAAAAAAAAAAAAAAAAAAAAAAAAAAAAAAAAAAAAAAAAAAAAAAAAAAAAAAAAAAAAAAAAAANBE8k+AeA1AAAAAAAAAAAAAAAAAAAAAAAAAAAAAAAAAAAAAAAAAAAAAAAAAAAAAAAAAAAAAAAAAAAAAAAAAAAAAAAAAAAAAAAAAAAAAAAAAAAAAAAAAAAAAAAAAAAAAAAAAAAAAAAAAAAAAAAAAAAAAAAAAAAAAAAAAAAAAAAAAAAAAAAAAAABj+X1Alc4CQAAAAAAAAAAAAAAAAAAAAAAAAAAAAAAAAAAAAAAAAAAAAAAAAAAAAAAAAAAAAAAAAAAAAAAAAAAAAAAAAAAAAAAAAAAAAAAAAAAAAAAAAAAAAAAAAAAAAAAAAAAAAAAAAKQmKrCINPk/AAAAAAAAAAAAAAAAAAAAAAAAAAAAAAAAAAAAAAAAAAAAAAAAAAAAAAAAAAAAAAAAAAAAAAAAAAAAAAAAAAAAAAAAAAAAAAAAAAAAAAAAAADnMph6qVv0PwAAAAAAAAAAAAAAAAAAAAAAAAAAAAAAAAAAAAAAAAAAAAAAAAAAAAAAAAAAAAAAAAAAAAAAAAAAAAAAAAAAAAAAAAAAAAAAAMsL2BVs6+s/AAAAAAAAAAAAAAAAAAAAAAAAAAAAAAAAAAAAAAAAAAAAAAAAAAAAAAAAAAAAAAAAAAAAAAAAAAAAAAAAAAAAAK1fROqcweo/AAAAAAAAAAAAAAAAAAAAAAAAAAAAAAAAAAAAAAAAAAAAAAAAAAAAAAAAAAAAAAAANrP1O2Aa5j8AAAAAAAAAAAAAAAAAAAAAAAAAAAAAAAAAAAAAAAAAAAAAAAAAAAAAAAAAAAAAAACbzkfWfGPjPwAAAAAAAAAAAAAAAAAAAAAAAAAAAAAAAAAAAAAAAAAAAAAAAAAAAAAAAAAAAAAAADdcE2JUSeA/AAAAAAAAAAAAAAAAAAAAAAAAAAAAAAAAAAAAAAAAAAAAAAAAAAAAAIsn5TL2sdw/AAAAAAAAAAAAAAAAAAAAAAAAAAAAAAAAAAAAAAAAAACeJW8tG7fVPwAAAAAAAAAAAAAAAAAAAAAAAAAAAAAAAAAAAAAAAAAA/Hggf94P0T8AAAAAAAAAAAAAAAAAAAAAAAAAAAAAAAAAAAAAAAAAAKFbE2JUSdA/AAAAAAAAAAAAAAAAAAAAAAAAAAAAAAAA3bE6ufKc0j8AAAAAAAAAAAAAAAAAAAAAAAAAAAAAAABA0r3bV17KPwAAAAAAAAAAAAAAAAAAAAAAAAAAAAAAAIiyOrnynMI/AAAAAAAAAAAAAAAAAAAAAAAAAAAAAAAAKV+JZy9Exz8AAAAAAAAAAAAAAAAAAAAAAAAAAAAAAADLCtgVbOu7PwAAAAAAAAAAAAAAAAAAAACeJW8tG7e1PwAAAAAAAAAAAAAAAAAAAADSl6OhQ9G4PwAAAAAAAAAAAAAAAAAAAAAAAAAAAAAAAJ4lby0bt7U/AAAAAAAAAAAAAAAAAAAAAN2xOrnynMI/AAAAAAAAAADXJG8tG7e1PwAAAAAAAAAAAAAAAAAAAAD8eCB/3g/BPwAAAAAAAAAAAAAAAAAAAADSl6OhQ9GYPwAAAAAAAAAAiLI6ufKcwj8AAAAAAAAAAAAAAAAAAAAAxn0MipQFrz8AAAAAAAAAAMsK2BVs67s/AAAAAAAAAAAAAAAAAAAAAMsL2BVs67s/AAAAAAAAAADXJG8tG7e1PwAAAAAAAAAA1yRvLRu3tT8AAAAAAAAAAMZ9DIqUBa8/AAAAAAAAAADSl6OhQ9GIPwAAAAAAAAAA0pejoUPRiD8AAAAAAAAAANKXo6FD0ag/AAAAAAAAAAC1mKOhQ9GYPwAAAAAAAAAAtZijoUPRmD8AAAAAAAAAALWYo6FD0ag/AAAAAAAAAAC1mKOhQ9GIP92xOrnynKI/AAAAAAAAAADdsTq58pyiPwAAAAAAAAAA0pejoUPRmD/dsTq58pyiPwAAAAAAAAAA0pejoUPRmD+1mKOhQ9GoPwAAAAAAAAAAtZijoUPRiD/Sl6OhQ9GoPwAAAAAAAAAA3bE6ufKcoj+1mKOhQ9GYPwAAAAAAAAAA0pejoUPRiD+1mKOhQ9GoP9KXo6FD0Zg/AAAAAAAAAAAAAAAAAAAAAO6Wo6FD0ag/tZijoUPRmD+1mKOhQ9GYPwAAAAAAAAAAAAAAAAAAAACIsjq58pyiP7WYo6FD0Zg/7pajoUPRmD+1mKOhQ9GIPwAAAAAAAAAAAAAAAAAAAADulqOhQ9GYP4iyOrnynKI/AAAAAAAAAAC1mKOhQ9GIPwAAAAAAAAAAAAAAAAAAAAC1mKOhQ9GIP+6Wo6FD0Yg/tZijoUPRqD+1mKOhQ9GYPwAAAAAAAAAA7pajoUPRiD+1mKOhQ9GIP7WYo6FD0Zg/AAAAAAAAAADulqOhQ9GIP7WYo6FD0Zg/tZijoUPRmD8AAAAAAAAAALWYo6FD0Yg/AAAAAAAAAAAAAAAAAAAAAO6Wo6FD0Yg/AAAAAAAAAAC1mKOhQ9GIP7WYo6FD0Zg/7pajoUPRiD8AAAAAAAAAAAAAAAAAAAAAAAAAAAAAAAAAAAAAAAAAAAAAAAAAAAAAAAAAAAAAAAAAAAAAAAAAALWYo6FD0Zg/AAAAAAAAAAC1mKOhQ9GYP+6Wo6FD0Yg/tZijoUPRiD8AAAAAAAAAAAAAAAAAAAAAAAAAAAAAAAAAAAAAAAAAAAAAAAAAAAAAAAAAAAAAAAAAAAAAAAAAAAAAAAAAAAAAtZijoUPRiD8AAAAAAAAAALWYo6FD0Yg/tZijoUPRmD+1mKOhQ9GIPwAAAAAAAAAAAAAAAAAAAAC1mKOhQ9GIP+6Wo6FD0Yg/AAAAAAAAAAAAAAAAAAAAALWYo6FD0Yg/7pajoUPRiD8AAAAAAAAAAAAAAAAAAAAAtZijoUPRiD8AAAAAAAAAALWYo6FD0Yg/tZijoUPRiD/ulqOhQ9GIPwAAAAAAAAAAAAAAAAAAAAAAAAAAAAAAAO6Wo6FD0Yg/tZijoUPRiD8AAAAAAAAAAAAAAAAAAAAA7pajoUPRiD8AAAAAAAAAAAAAAAAAAAAAAAAAAAAAAAAAAAAAAAAAAAAAAAAAAAAAAAAAAAAAAAAAAAAAAAAAAAAAAAAAAAAAtZijoUPRiD8AAAAAAAAAADOxOrnynKI/tZijoUPRiD8AAAAAAAAAAAAAAAAAAAAAtZijoUPRiD8AAAAAAAAAALWYo6FD0Yg/AAAAAAAAAAAAAAAAAAAAAAAAAAAAAAAAAAAAAAAAAAAAAAAAAAAAAAAAAAAAAAAAAAAAAAAAAAAAAAAAAAAAAAAAAAAAAAAAtZijoUPRiD8AAAAAAAAAAAAAAAAAAAAAtZijoUPRiD8AAAAAAAAAAAAAAAAAAAAAAAAAAAAAAAAAAAAAAAAAAAAAAAAAAAAAAAAAAAAAAAAAAAAAAAAAAAAAAAAAAAAAAAAAAAAAAAAAAAAAAAAAAAAAAAAAAAAAAAAAAAAAAAAAAAAAAAAAAAAAAAAAAAAAtZijoUPRiD8AAAAAAAAAAAAAAAAAAAAAAAAAAAAAAAAAAAAAAAAAAAAAAAAAAAAAAAAAAAAAAAAAAAAAAAAAAAAAAAAAAAAAAAAAAAAAAAAAAAAAAAAAAAAAAAAAAAAAAAAAAAAAAAAAAAAAAAAAAAAAAAAAAAAAAAAAAAAAAAAAAAAAAAAAAAAAAAAAAAAAAAAAAAAAAAAAAAAAAAAAALWYo6FD0Yg/AAAAAAAAAAAAAAAAAAAAAAAAAAAAAAAAAAAAAAAAAAAAAAAAAAAAAAAAAAAAAAAAAAAAAAAAAAAAAAAAAAAAALWYo6FD0Yg/AAAAAAAAAAAAAAAAAAAAAAAAAAAAAAAAAAAAAAAAAAAAAAAAAAAAAAAAAAAAAAAAAAAAAAAAAAAAAAAAAAAAAAAAAAAAAAAAAAAAAAAAAAAAAAAAAAAAAAAAAAAAAAAAAAAAAAAAAAAAAAAAAAAAAAAAAAAAAAAAAAAAAAAAAAAAAAAAAAAAAAAAAAAAAAAAAAAAAAAAAAAAAAAAAAAAAAAAAAAAAAAAAAAAAAAAAAAAAAAAAAAAAAAAAAAAAAAAAAAAAAAAAAAAAAAAAAAAAAAAAAAAAAAAAAAAAAAAAAAAAAAAAAAAAAAAAAAAAAAAtZijoUPRiD8AAAAAAAAAAAAAAAAAAAAAAAAAAAAAAAAAAAAAAAAAAAAAAAAAAAAAAAAAAAAAAAAAAAAAAAAAAAAAAAAAAAAAAAAAAAAAAAAAAAAAAAAAAAAAAAAAAAAAAAAAAAAAAADulqOhQ9GIPw==\",\"dtype\":\"float64\",\"order\":\"little\",\"shape\":[500]}},\"selected\":{\"id\":\"1143\"},\"selection_policy\":{\"id\":\"1142\"}},\"id\":\"1120\",\"type\":\"ColumnDataSource\"},{\"attributes\":{},\"id\":\"1137\",\"type\":\"BasicTickFormatter\"},{\"attributes\":{\"coordinates\":null,\"formatter\":{\"id\":\"1140\"},\"group\":null,\"major_label_policy\":{\"id\":\"1141\"},\"ticker\":{\"id\":\"1104\"}},\"id\":\"1103\",\"type\":\"LinearAxis\"},{\"attributes\":{},\"id\":\"1143\",\"type\":\"Selection\"},{\"attributes\":{\"coordinates\":null,\"formatter\":{\"id\":\"1137\"},\"group\":null,\"major_label_policy\":{\"id\":\"1138\"},\"ticker\":{\"id\":\"1108\"}},\"id\":\"1107\",\"type\":\"LinearAxis\"},{\"attributes\":{},\"id\":\"1114\",\"type\":\"SaveTool\"},{\"attributes\":{},\"id\":\"1095\",\"type\":\"DataRange1d\"},{\"attributes\":{},\"id\":\"1104\",\"type\":\"BasicTicker\"},{\"attributes\":{},\"id\":\"1138\",\"type\":\"AllLabels\"},{\"attributes\":{\"axis\":{\"id\":\"1103\"},\"coordinates\":null,\"group\":null,\"ticker\":null},\"id\":\"1106\",\"type\":\"Grid\"}],\"root_ids\":[\"1092\"]},\"title\":\"Bokeh Application\",\"version\":\"2.4.3\"}};\n  const render_items = [{\"docid\":\"671061d8-e2cb-42b2-8cbd-d50ff98ef17b\",\"root_ids\":[\"1092\"],\"roots\":{\"1092\":\"060d8a80-d17b-4bb7-82e8-847684b64cf6\"}}];\n  root.Bokeh.embed.embed_items_notebook(docs_json, render_items);\n  }\n  if (root.Bokeh !== undefined) {\n    embed_document(root);\n  } else {\n    let attempts = 0;\n    const timer = setInterval(function(root) {\n      if (root.Bokeh !== undefined) {\n        clearInterval(timer);\n        embed_document(root);\n      } else {\n        attempts++;\n        if (attempts > 100) {\n          clearInterval(timer);\n          console.log(\"Bokeh: ERROR: Unable to run BokehJS code because BokehJS library is missing\");\n        }\n      }\n    }, 10, root)\n  }\n})(window);",
      "application/vnd.bokehjs_exec.v0+json": ""
     },
     "metadata": {
      "application/vnd.bokehjs_exec.v0+json": {
       "id": "1092"
      }
     },
     "output_type": "display_data"
    }
   ],
   "source": [
    "import math\n",
    "def plot_distribution(vocabulary):\n",
    "    hist, edges = np.histogram(list(map(lambda x:math.log(x[1]),vocabulary.most_common())), density=True, bins=500)\n",
    "    p = figure(tools=\"pan,wheel_zoom,reset,save\",\n",
    "               toolbar_location=\"above\",\n",
    "               title=\"Word distribution accross all sentences\")\n",
    "    p.quad(top=hist, bottom=0, left=edges[:-1], right=edges[1:], line_color=\"#555555\", )\n",
    "    show(p)\n",
    "plot_distribution(vocab)"
   ]
  }
 ],
 "metadata": {
  "kernelspec": {
   "display_name": "Python 3.7.7rc1 64-bit",
   "language": "python",
   "name": "python3"
  },
  "language_info": {
   "codemirror_mode": {
    "name": "ipython",
    "version": 3
   },
   "file_extension": ".py",
   "mimetype": "text/x-python",
   "name": "python",
   "nbconvert_exporter": "python",
   "pygments_lexer": "ipython3",
   "version": "3.7.7rc1"
  },
  "orig_nbformat": 4,
  "vscode": {
   "interpreter": {
    "hash": "5bb21719e84a4be8592fa555a98a2ca07a3d132b9dac82a4dffc654b3194b132"
   }
  }
 },
 "nbformat": 4,
 "nbformat_minor": 2
}
