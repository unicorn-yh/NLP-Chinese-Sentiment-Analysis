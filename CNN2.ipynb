{
 "cells": [
  {
   "cell_type": "code",
   "execution_count": 1,
   "metadata": {},
   "outputs": [
    {
     "name": "stderr",
     "output_type": "stream",
     "text": [
      "Using TensorFlow backend.\n"
     ]
    }
   ],
   "source": [
    "from __future__ import division, print_function\n",
    "from keras.callbacks import ModelCheckpoint\n",
    "from keras.layers import Dense, Dropout, Reshape, Flatten, concatenate, Input, Conv1D, GlobalMaxPooling1D, Embedding\n",
    "from keras.layers.recurrent import LSTM\n",
    "from keras.models import Sequential\n",
    "from keras.preprocessing.text import Tokenizer\n",
    "from keras.preprocessing.sequence import pad_sequences\n",
    "from keras.models import Model\n",
    "from sklearn.model_selection import train_test_split\n",
    "import numpy as np\n",
    "import pandas as pd\n",
    "import os\n",
    "import collections\n",
    "import re\n",
    "import string\n",
    "dataset_size = 500"
   ]
  },
  {
   "cell_type": "code",
   "execution_count": 2,
   "metadata": {},
   "outputs": [],
   "source": [
    "def concate_files(file1,file2,final_file):\n",
    "      data = data2 = \"\"\n",
    "      with open(file1, 'r', encoding='utf-8') as fp:  # Reading data from file1\n",
    "            sentences = fp.readlines()\n",
    "            for sentence in sentences[:int(dataset_size)]:\n",
    "                  data += sentence\n",
    "      with open(file2, 'r', encoding='utf-8') as fp:  # Reading data from file2\n",
    "            sentences = fp.readlines()\n",
    "            for sentence in sentences[:int(dataset_size)]:\n",
    "                  data2 += sentence\n",
    "      data += data2  # To add the data of file2\n",
    "      with open (final_file, 'w', encoding='utf-8') as fp:\n",
    "            fp.write(data)\n",
    "concate_files('data/total/pos.txt','data/total/neg.txt','data/total/labeled_text.txt')"
   ]
  },
  {
   "cell_type": "code",
   "execution_count": 3,
   "metadata": {},
   "outputs": [
    {
     "name": "stderr",
     "output_type": "stream",
     "text": [
      "C:\\Users\\User\\AppData\\Roaming\\Python\\Python36\\site-packages\\ipykernel_launcher.py:1: ParserWarning: Falling back to the 'python' engine because the 'c' engine does not support regex separators (separators > 1 char and different from '\\s+' are interpreted as regex); you can avoid this warning by specifying engine='python'.\n",
      "  \"\"\"Entry point for launching an IPython kernel.\n"
     ]
    },
    {
     "data": {
      "text/html": [
       "<div>\n",
       "<style scoped>\n",
       "    .dataframe tbody tr th:only-of-type {\n",
       "        vertical-align: middle;\n",
       "    }\n",
       "\n",
       "    .dataframe tbody tr th {\n",
       "        vertical-align: top;\n",
       "    }\n",
       "\n",
       "    .dataframe thead th {\n",
       "        text-align: right;\n",
       "    }\n",
       "</style>\n",
       "<table border=\"1\" class=\"dataframe\">\n",
       "  <thead>\n",
       "    <tr style=\"text-align: right;\">\n",
       "      <th></th>\n",
       "      <th>Label</th>\n",
       "      <th>Text</th>\n",
       "    </tr>\n",
       "  </thead>\n",
       "  <tbody>\n",
       "    <tr>\n",
       "      <th>0</th>\n",
       "      <td>1</td>\n",
       "      <td>距离川沙公路较近,但是公交指示不对,如果是\"蔡陆线\"的话,会非常麻烦.建议用别的路线.房间较...</td>\n",
       "    </tr>\n",
       "    <tr>\n",
       "      <th>1</th>\n",
       "      <td>1</td>\n",
       "      <td>商务大床房，房间很大，床有2M宽，整体感觉经济实惠不错!</td>\n",
       "    </tr>\n",
       "    <tr>\n",
       "      <th>2</th>\n",
       "      <td>1</td>\n",
       "      <td>早餐太差，无论去多少人，那边也不加食品的。酒店应该重视一下这个问题了。房间本身很好。</td>\n",
       "    </tr>\n",
       "    <tr>\n",
       "      <th>3</th>\n",
       "      <td>1</td>\n",
       "      <td>宾馆在小街道上，不大好找，但还好北京热心同胞很多~宾馆设施跟介绍的差不多，房间很小，确实挺小...</td>\n",
       "    </tr>\n",
       "    <tr>\n",
       "      <th>4</th>\n",
       "      <td>1</td>\n",
       "      <td>CBD中心,周围没什么店铺,说5星有点勉强.不知道为什么卫生间没有电吹风</td>\n",
       "    </tr>\n",
       "  </tbody>\n",
       "</table>\n",
       "</div>"
      ],
      "text/plain": [
       "   Label                                               Text\n",
       "0      1  距离川沙公路较近,但是公交指示不对,如果是\"蔡陆线\"的话,会非常麻烦.建议用别的路线.房间较...\n",
       "1      1                       商务大床房，房间很大，床有2M宽，整体感觉经济实惠不错!\n",
       "2      1         早餐太差，无论去多少人，那边也不加食品的。酒店应该重视一下这个问题了。房间本身很好。\n",
       "3      1  宾馆在小街道上，不大好找，但还好北京热心同胞很多~宾馆设施跟介绍的差不多，房间很小，确实挺小...\n",
       "4      1               CBD中心,周围没什么店铺,说5星有点勉强.不知道为什么卫生间没有电吹风"
      ]
     },
     "execution_count": 3,
     "metadata": {},
     "output_type": "execute_result"
    }
   ],
   "source": [
    "data = pd.read_csv('data/total/labeled_text.txt', header = None, delimiter='    ',encoding='utf-8',names=['Label', 'Text'])\n",
    "data.head()"
   ]
  },
  {
   "cell_type": "code",
   "execution_count": 4,
   "metadata": {},
   "outputs": [
    {
     "data": {
      "text/plain": [
       "array([ 1, -1], dtype=int64)"
      ]
     },
     "execution_count": 4,
     "metadata": {},
     "output_type": "execute_result"
    }
   ],
   "source": [
    "data.Label.unique()"
   ]
  },
  {
   "cell_type": "code",
   "execution_count": 5,
   "metadata": {},
   "outputs": [
    {
     "data": {
      "text/plain": [
       "(1000, 2)"
      ]
     },
     "execution_count": 5,
     "metadata": {},
     "output_type": "execute_result"
    }
   ],
   "source": [
    "data.shape"
   ]
  },
  {
   "cell_type": "code",
   "execution_count": 6,
   "metadata": {},
   "outputs": [
    {
     "data": {
      "text/html": [
       "<div>\n",
       "<style scoped>\n",
       "    .dataframe tbody tr th:only-of-type {\n",
       "        vertical-align: middle;\n",
       "    }\n",
       "\n",
       "    .dataframe tbody tr th {\n",
       "        vertical-align: top;\n",
       "    }\n",
       "\n",
       "    .dataframe thead th {\n",
       "        text-align: right;\n",
       "    }\n",
       "</style>\n",
       "<table border=\"1\" class=\"dataframe\">\n",
       "  <thead>\n",
       "    <tr style=\"text-align: right;\">\n",
       "      <th></th>\n",
       "      <th>Label</th>\n",
       "      <th>Text</th>\n",
       "    </tr>\n",
       "  </thead>\n",
       "  <tbody>\n",
       "    <tr>\n",
       "      <th>0</th>\n",
       "      <td>1</td>\n",
       "      <td>距离川沙公路较近,但是公交指示不对,如果是\"蔡陆线\"的话,会非常麻烦.建议用别的路线.房间较...</td>\n",
       "    </tr>\n",
       "    <tr>\n",
       "      <th>1</th>\n",
       "      <td>1</td>\n",
       "      <td>商务大床房，房间很大，床有2M宽，整体感觉经济实惠不错!</td>\n",
       "    </tr>\n",
       "    <tr>\n",
       "      <th>2</th>\n",
       "      <td>1</td>\n",
       "      <td>早餐太差，无论去多少人，那边也不加食品的。酒店应该重视一下这个问题了。房间本身很好。</td>\n",
       "    </tr>\n",
       "    <tr>\n",
       "      <th>3</th>\n",
       "      <td>1</td>\n",
       "      <td>宾馆在小街道上，不大好找，但还好北京热心同胞很多~宾馆设施跟介绍的差不多，房间很小，确实挺小...</td>\n",
       "    </tr>\n",
       "    <tr>\n",
       "      <th>4</th>\n",
       "      <td>1</td>\n",
       "      <td>CBD中心,周围没什么店铺,说5星有点勉强.不知道为什么卫生间没有电吹风</td>\n",
       "    </tr>\n",
       "  </tbody>\n",
       "</table>\n",
       "</div>"
      ],
      "text/plain": [
       "   Label                                               Text\n",
       "0      1  距离川沙公路较近,但是公交指示不对,如果是\"蔡陆线\"的话,会非常麻烦.建议用别的路线.房间较...\n",
       "1      1                       商务大床房，房间很大，床有2M宽，整体感觉经济实惠不错!\n",
       "2      1         早餐太差，无论去多少人，那边也不加食品的。酒店应该重视一下这个问题了。房间本身很好。\n",
       "3      1  宾馆在小街道上，不大好找，但还好北京热心同胞很多~宾馆设施跟介绍的差不多，房间很小，确实挺小...\n",
       "4      1               CBD中心,周围没什么店铺,说5星有点勉强.不知道为什么卫生间没有电吹风"
      ]
     },
     "execution_count": 6,
     "metadata": {},
     "output_type": "execute_result"
    }
   ],
   "source": [
    "#Assign Label to each sentence\n",
    "PosNegLabel = []\n",
    "for label in data.Label:\n",
    "    if label == -1:        #negative\n",
    "        PosNegLabel.append(0)\n",
    "    elif label == 1:      #positive\n",
    "        PosNegLabel.append(1)\n",
    "data['Label']= PosNegLabel\n",
    "data.head()"
   ]
  },
  {
   "cell_type": "code",
   "execution_count": 7,
   "metadata": {},
   "outputs": [],
   "source": [
    "stopword_ls = []\n",
    "def getStopWord():\n",
    "    with open('lib/stopwords_utf8.txt', 'r',encoding='UTF-8') as file:\n",
    "        for line in file:\n",
    "            stopword_ls.append(line.split('\\n')[0])\n",
    "getStopWord()\n",
    "\n",
    "def isStopWord(word):\n",
    "    for i in range(len(stopword_ls)):\n",
    "        if word == stopword_ls[i]:\n",
    "            return True\n",
    "    return False"
   ]
  },
  {
   "cell_type": "code",
   "execution_count": 8,
   "metadata": {},
   "outputs": [],
   "source": [
    "import jieba\n",
    "import random\n",
    "def load_data():   #获取数据集\n",
    "    data = []\n",
    "    getStopWord()\n",
    "    positive_line = 0\n",
    "    negative_line = 0\n",
    "    total_positive_line = dataset_size\n",
    "    total_negative_line = dataset_size\n",
    "\n",
    "    with open('data/total/pos.txt', 'r', encoding='utf-8') as f:\n",
    "        print('File Directory: data/total/pos.txt')\n",
    "        sentences = f.readlines()\n",
    "        for sentence in sentences[:total_positive_line]:\n",
    "            positive_line += 1\n",
    "            if positive_line == total_positive_line:\n",
    "                end_val = '\\n'\n",
    "            else:\n",
    "                end_val = '\\r'\n",
    "            print('Getting positive sentence {}/{}'.format(positive_line,total_positive_line),end=end_val)\n",
    "            word_ls = []\n",
    "            words = sentence.replace('\\n','').split('    ')   #get chinese sentence\n",
    "            tmp_ls = list(jieba.cut(words[1], cut_all=True))   #segmentation\n",
    "            for i in range(len(tmp_ls)):\n",
    "                if not isStopWord(tmp_ls[i]):\n",
    "                       word_ls.append(tmp_ls[i]) \n",
    "            data.append([word_ls, 0])\n",
    "\n",
    "    with open('data/total/neg.txt', 'r', encoding='utf-8') as f:\n",
    "        print('File Directory: data/total/neg.txt')\n",
    "        sentences = f.readlines()\n",
    "        for sentence in sentences[:total_negative_line]:\n",
    "            negative_line += 1\n",
    "            if negative_line == total_negative_line:\n",
    "                end_val = '\\n'\n",
    "            else:\n",
    "                end_val = '\\r'\n",
    "            print('Getting negative sentence {}/{}'.format(negative_line,total_negative_line),end=end_val)\n",
    "            word_ls = []\n",
    "            words = sentence.replace('\\n','').split('    ')   #get chinese sentence\n",
    "            tmp_ls = list(jieba.cut(words[1], cut_all=True))   #segmentation\n",
    "            for i in range(len(tmp_ls)):\n",
    "                if not isStopWord(tmp_ls[i]):\n",
    "                       word_ls.append(tmp_ls[i]) \n",
    "            data.append([word_ls, 1])\n",
    "\n",
    "    print('Positive Line: {} | Negative Line: {}'.format(positive_line,negative_line))\n",
    "    random.shuffle(data)\n",
    "    return data"
   ]
  },
  {
   "cell_type": "code",
   "execution_count": 9,
   "metadata": {},
   "outputs": [
    {
     "name": "stderr",
     "output_type": "stream",
     "text": [
      "d:\\Downloads\\python3.6\\lib\\random.py:277: SettingWithCopyWarning: \n",
      "A value is trying to be set on a copy of a slice from a DataFrame\n",
      "\n",
      "See the caveats in the documentation: https://pandas.pydata.org/pandas-docs/stable/user_guide/indexing.html#returning-a-view-versus-a-copy\n",
      "  x[i], x[j] = x[j], x[i]\n"
     ]
    },
    {
     "data": {
      "text/html": [
       "<div>\n",
       "<style scoped>\n",
       "    .dataframe tbody tr th:only-of-type {\n",
       "        vertical-align: middle;\n",
       "    }\n",
       "\n",
       "    .dataframe tbody tr th {\n",
       "        vertical-align: top;\n",
       "    }\n",
       "\n",
       "    .dataframe thead th {\n",
       "        text-align: right;\n",
       "    }\n",
       "</style>\n",
       "<table border=\"1\" class=\"dataframe\">\n",
       "  <thead>\n",
       "    <tr style=\"text-align: right;\">\n",
       "      <th></th>\n",
       "      <th>Label</th>\n",
       "      <th>Text</th>\n",
       "      <th>Segmented_Text</th>\n",
       "    </tr>\n",
       "  </thead>\n",
       "  <tbody>\n",
       "    <tr>\n",
       "      <th>0</th>\n",
       "      <td>1</td>\n",
       "      <td>在携程上订了一天，实际入住两天，酒店照携程价加收了一天房费，并为我免费升级了商务房。中间问酒...</td>\n",
       "      <td>[携程, 上订, 天, 入住, 两, 天, 酒店, 携程, 价, 加收, 天房, 费, 免费...</td>\n",
       "    </tr>\n",
       "    <tr>\n",
       "      <th>1</th>\n",
       "      <td>1</td>\n",
       "      <td>这个店太差房间有霉味,最不能忍受的是前台工作效率极低极低!</td>\n",
       "      <td>[店, 太, 差, 房间, 霉味, 能忍受, 前台, 工作, 效率, 低, 低]</td>\n",
       "    </tr>\n",
       "    <tr>\n",
       "      <th>2</th>\n",
       "      <td>1</td>\n",
       "      <td>标准的商务酒店，最大的优点就是位置好。房间比较干净，设施还行，但有些细节还需要改进。楼层服务...</td>\n",
       "      <td>[标准, 商务, 酒店, 优点, 位置, 房间, 干净, 设施, 还行, 细节, 改进, 楼...</td>\n",
       "    </tr>\n",
       "    <tr>\n",
       "      <th>3</th>\n",
       "      <td>1</td>\n",
       "      <td>北京的酒店，也就是这么着了！五星级酒店也就三星的水平，何况四星的呢，凑合着住吧</td>\n",
       "      <td>[北京, 酒店, 五星级, 酒店, 三星, 水平, 四星, 凑合, 住]</td>\n",
       "    </tr>\n",
       "    <tr>\n",
       "      <th>4</th>\n",
       "      <td>1</td>\n",
       "      <td>知道网线接口在哪儿吗？比高家庄的地道口还隐蔽。在床头柜后面！想不道吧？看你怎么用。1：自带4...</td>\n",
       "      <td>[网线, 接口, 高家庄, 道口, 隐蔽, 床头, 柜, 想, 不道, 。1：, 米, 网线...</td>\n",
       "    </tr>\n",
       "  </tbody>\n",
       "</table>\n",
       "</div>"
      ],
      "text/plain": [
       "   Label                                               Text  \\\n",
       "0      1  在携程上订了一天，实际入住两天，酒店照携程价加收了一天房费，并为我免费升级了商务房。中间问酒...   \n",
       "1      1                      这个店太差房间有霉味,最不能忍受的是前台工作效率极低极低!   \n",
       "2      1  标准的商务酒店，最大的优点就是位置好。房间比较干净，设施还行，但有些细节还需要改进。楼层服务...   \n",
       "3      1            北京的酒店，也就是这么着了！五星级酒店也就三星的水平，何况四星的呢，凑合着住吧   \n",
       "4      1  知道网线接口在哪儿吗？比高家庄的地道口还隐蔽。在床头柜后面！想不道吧？看你怎么用。1：自带4...   \n",
       "\n",
       "                                      Segmented_Text  \n",
       "0  [携程, 上订, 天, 入住, 两, 天, 酒店, 携程, 价, 加收, 天房, 费, 免费...  \n",
       "1           [店, 太, 差, 房间, 霉味, 能忍受, 前台, 工作, 效率, 低, 低]  \n",
       "2  [标准, 商务, 酒店, 优点, 位置, 房间, 干净, 设施, 还行, 细节, 改进, 楼...  \n",
       "3               [北京, 酒店, 五星级, 酒店, 三星, 水平, 四星, 凑合, 住]  \n",
       "4  [网线, 接口, 高家庄, 道口, 隐蔽, 床头, 柜, 想, 不道, 。1：, 米, 网线...  "
      ]
     },
     "execution_count": 9,
     "metadata": {},
     "output_type": "execute_result"
    }
   ],
   "source": [
    "import jieba\n",
    "from snownlp import SnowNLP\n",
    "import random\n",
    "\n",
    "def jieba_segment(text):\n",
    "    word_ls = []\n",
    "    tmp_ls = list(jieba.cut(text, cut_all=False))   #segmentation\n",
    "    for i in range(len(tmp_ls)):\n",
    "        if not isStopWord(tmp_ls[i]):\n",
    "            word_ls.append(tmp_ls[i]) \n",
    "    return word_ls\n",
    "\n",
    "def snow_segment(text):\n",
    "    word_ls = []\n",
    "    tmp_ls = SnowNLP(text).words  #segmentation  \n",
    "    for i in range(len(tmp_ls)):\n",
    "        if not isStopWord(tmp_ls[i]):\n",
    "            word_ls.append(tmp_ls[i]) \n",
    "    return word_ls\n",
    "\n",
    "random.shuffle(data['Text'])\n",
    "#data['Segmented_Text'] = data['Text'].apply(lambda x: jieba_segment(x))\n",
    "data['Segmented_Text'] = data['Text'].apply(lambda x: snow_segment(x))\n",
    "data.head()"
   ]
  },
  {
   "cell_type": "code",
   "execution_count": 10,
   "metadata": {},
   "outputs": [],
   "source": [
    "data_train, data_test = train_test_split(data, test_size=0.20)"
   ]
  },
  {
   "cell_type": "code",
   "execution_count": 11,
   "metadata": {},
   "outputs": [
    {
     "name": "stdout",
     "output_type": "stream",
     "text": [
      "TRAIN DATASET | Total Words:32533 | Total Vocabulary:6003 | Max Sentence Length:578\n",
      "TEST  DATASET | Total Words:8687  | Total Vocabulary:2800 | Max Sentence Length:578\n"
     ]
    }
   ],
   "source": [
    "all_training_words = [word for tokens in data_train[\"Segmented_Text\"] for word in tokens]\n",
    "training_sentence_lengths = [len(tokens) for tokens in data_train[\"Segmented_Text\"]]\n",
    "TRAINING_VOCAB = sorted(list(set(all_training_words)))\n",
    "print(\"TRAIN DATASET | Total Words:{} | Total Vocabulary:{} | Max Sentence Length:{}\".format(len(all_training_words),len(TRAINING_VOCAB),max(training_sentence_lengths)))\n",
    "\n",
    "all_test_words = [word for tokens in data_test[\"Segmented_Text\"] for word in tokens]\n",
    "test_sentence_lengths = [len(tokens) for tokens in data_test[\"Segmented_Text\"]]\n",
    "TEST_VOCAB = sorted(list(set(all_test_words)))\n",
    "print(\"TEST  DATASET | Total Words:{}  | Total Vocabulary:{} | Max Sentence Length:{}\" .format(len(all_test_words),len(TEST_VOCAB),max(test_sentence_lengths)))"
   ]
  },
  {
   "cell_type": "code",
   "execution_count": 12,
   "metadata": {},
   "outputs": [
    {
     "name": "stderr",
     "output_type": "stream",
     "text": [
      "d:\\Downloads\\python3.6\\lib\\site-packages\\tqdm\\auto.py:22: TqdmWarning: IProgress not found. Please update jupyter and ipywidgets. See https://ipywidgets.readthedocs.io/en/stable/user_install.html\n",
      "  from .autonotebook import tqdm as notebook_tqdm\n"
     ]
    }
   ],
   "source": [
    "import torch\n",
    "from tqdm import tqdm\n",
    "from torchtext.legacy import vocab\n",
    "import torchtext.vocab as Vocab\n",
    "import torch.utils.data as Data\n",
    "import torch.nn.functional as F\n",
    "from torch import nn\n",
    "import time\n",
    "\n",
    "def get_vocab(data):\n",
    "    tokenized_data = [words for words, _ in data]\n",
    "    counter = collections.Counter([tk for st in tokenized_data for tk in st])\n",
    "    return vocab.Vocab(counter, min_freq=5)\n",
    "\n",
    "def preprocess(data, vocab):  #data:list | vocab:torchtext.legacy.vocab.Vocab\n",
    "    max_l = 500  # 将每条评论通过截断或者补0，使得长度变成500\n",
    "\n",
    "    def pad(x):\n",
    "        return x[:max_l] if len(x) > max_l else x + [0] * (max_l - len(x))\n",
    "\n",
    "    tokenized_data = [words for words, _ in data]\n",
    "    features = torch.tensor([pad([vocab.stoi[word] for word in words]) for words in tokenized_data])\n",
    "    labels = torch.tensor([score for _, score in data])\n",
    "    return features, labels\n",
    "\n",
    "def load_pretrained_embedding(words, pretrained_vocab):\n",
    "    \"\"\"从预训练好的vocab中提取出words对应的词向量\"\"\"\n",
    "    embed = torch.zeros(len(words), pretrained_vocab.vectors[0].shape[0])  # 初始化为0\n",
    "    oov_count = 0  # out of vocabulary\n",
    "    for i, word in enumerate(words):\n",
    "        try:\n",
    "            idx = pretrained_vocab.stoi[word]\n",
    "            embed[i, :] = pretrained_vocab.vectors[idx]\n",
    "        except KeyError:\n",
    "            oov_count += 1\n",
    "    if oov_count > 0:\n",
    "        print(\"Words Out of Vocabulary: {}\".format(oov_count))\n",
    "    return embed\n",
    "\n",
    "def evaluate_accuracy(data_iter, net, device=None):\n",
    "    if device is None and isinstance(net, torch.nn.Module):\n",
    "        # 如果没指定device就使用net的device\n",
    "        device = list(net.parameters())[0].device\n",
    "    acc_sum, n = 0.0, 0\n",
    "    with torch.no_grad():\n",
    "        for X, y in data_iter:\n",
    "            net.eval()  # 评估模式, 这会关闭dropout\n",
    "            acc_sum += (net(X.to(device)).argmax(dim=1) == y.to(device)).float().sum().cpu().item()\n",
    "            net.train()  # 改回训练模式\n",
    "            n += y.shape[0]\n",
    "    return acc_sum / n\n",
    "\n",
    "def train(train_iter, test_iter, net, loss, optimizer, device, num_epochs):\n",
    "    net = net.to(device)\n",
    "    print(\"training on \", device)\n",
    "    batch_count = 0\n",
    "    opt_test_acc = 0\n",
    "    train_acc_ls,test_acc_ls,loss_ls = [],[],[]\n",
    "    \n",
    "    for epoch in range(num_epochs):\n",
    "        train_l_sum, train_acc_sum, n, start = 0.0, 0.0, 0, time.time()\n",
    "        for X, y in tqdm(train_iter):\n",
    "            X = X.to(device)\n",
    "            y = y.to(device)\n",
    "            y_hat = net(X)\n",
    "            l = loss(y_hat, y)\n",
    "            optimizer.zero_grad()\n",
    "            l.backward()\n",
    "            optimizer.step()\n",
    "            train_l_sum += l.cpu().item()\n",
    "            train_acc_sum += (y_hat.argmax(dim=1) == y).sum().cpu().item()\n",
    "            n += y.shape[0]\n",
    "            batch_count += 1\n",
    "        test_acc = evaluate_accuracy(test_iter, net)\n",
    "        print('epoch %d, loss %.4f, train acc %.3f, test acc %.3f, time %.1f sec'\n",
    "              % (epoch + 1, train_l_sum / batch_count, train_acc_sum / n, test_acc, time.time() - start))\n",
    "        train_acc_ls.append(train_acc_sum / n)\n",
    "        test_acc_ls.append(test_acc)\n",
    "        loss_ls.append(train_l_sum / batch_count)\n",
    "    return train_acc_ls,test_acc_ls,loss_ls"
   ]
  },
  {
   "cell_type": "code",
   "execution_count": 13,
   "metadata": {},
   "outputs": [
    {
     "data": {
      "text/html": [
       "<div>\n",
       "<style scoped>\n",
       "    .dataframe tbody tr th:only-of-type {\n",
       "        vertical-align: middle;\n",
       "    }\n",
       "\n",
       "    .dataframe tbody tr th {\n",
       "        vertical-align: top;\n",
       "    }\n",
       "\n",
       "    .dataframe thead th {\n",
       "        text-align: right;\n",
       "    }\n",
       "</style>\n",
       "<table border=\"1\" class=\"dataframe\">\n",
       "  <thead>\n",
       "    <tr style=\"text-align: right;\">\n",
       "      <th></th>\n",
       "      <th>Label</th>\n",
       "      <th>Text</th>\n",
       "      <th>Segmented_Text</th>\n",
       "    </tr>\n",
       "  </thead>\n",
       "  <tbody>\n",
       "    <tr>\n",
       "      <th>124</th>\n",
       "      <td>1</td>\n",
       "      <td>非常好!订的是标房,入住当天升级为豪标.房间干净,服务热情.如果房间的窗户能打开(透透气),...</td>\n",
       "      <td>[订, 标房, 入住, 当天, 升级, 为豪, 标, 房间, 干净, 服务, 热情, 房间,...</td>\n",
       "    </tr>\n",
       "    <tr>\n",
       "      <th>121</th>\n",
       "      <td>1</td>\n",
       "      <td>一般我是懒的去评价住过的酒店的,这次选择\"金泰海博\",是因为新公司就在对面,图个方便,但是,...</td>\n",
       "      <td>[我是, 懒, 评价, 住, 酒店, 选择, 金, 泰海, 博, \",, 新, 公司, 对面...</td>\n",
       "    </tr>\n",
       "    <tr>\n",
       "      <th>255</th>\n",
       "      <td>1</td>\n",
       "      <td>硬件设施太旧,和房价不相符,价格还是贵了补充点评2008年7月29日：大床房的床太小,两人睡...</td>\n",
       "      <td>[硬件, 设施, 太, 旧, 房价, 相符, 价格, 贵, 补充, 点评, 2008, 年,...</td>\n",
       "    </tr>\n",
       "    <tr>\n",
       "      <th>418</th>\n",
       "      <td>1</td>\n",
       "      <td>房间不干净，设施陈旧。以后不会再住，还是格林豪泰或如家比较好。</td>\n",
       "      <td>[房间, 干净, 设施, 陈旧, 住, 格林豪, 泰, 或如家]</td>\n",
       "    </tr>\n",
       "    <tr>\n",
       "      <th>877</th>\n",
       "      <td>0</td>\n",
       "      <td>房间太小，无电梯，周围环境还可以，但正在修路，非常嘈杂</td>\n",
       "      <td>[房间, 太, 电梯, 环境, 正, 修路, 嘈杂]</td>\n",
       "    </tr>\n",
       "  </tbody>\n",
       "</table>\n",
       "</div>"
      ],
      "text/plain": [
       "     Label                                               Text  \\\n",
       "124      1  非常好!订的是标房,入住当天升级为豪标.房间干净,服务热情.如果房间的窗户能打开(透透气),...   \n",
       "121      1  一般我是懒的去评价住过的酒店的,这次选择\"金泰海博\",是因为新公司就在对面,图个方便,但是,...   \n",
       "255      1  硬件设施太旧,和房价不相符,价格还是贵了补充点评2008年7月29日：大床房的床太小,两人睡...   \n",
       "418      1                    房间不干净，设施陈旧。以后不会再住，还是格林豪泰或如家比较好。   \n",
       "877      0                        房间太小，无电梯，周围环境还可以，但正在修路，非常嘈杂   \n",
       "\n",
       "                                        Segmented_Text  \n",
       "124  [订, 标房, 入住, 当天, 升级, 为豪, 标, 房间, 干净, 服务, 热情, 房间,...  \n",
       "121  [我是, 懒, 评价, 住, 酒店, 选择, 金, 泰海, 博, \",, 新, 公司, 对面...  \n",
       "255  [硬件, 设施, 太, 旧, 房价, 相符, 价格, 贵, 补充, 点评, 2008, 年,...  \n",
       "418                   [房间, 干净, 设施, 陈旧, 住, 格林豪, 泰, 或如家]  \n",
       "877                         [房间, 太, 电梯, 环境, 正, 修路, 嘈杂]  "
      ]
     },
     "execution_count": 13,
     "metadata": {},
     "output_type": "execute_result"
    }
   ],
   "source": [
    "data_train_ls, data_test_ls = [], []\n",
    "train_text_ls, train_label_ls = list(data_train.Segmented_Text), list(data_train.Label)\n",
    "test_text_ls, test_label_ls = list(data_test.Segmented_Text), list(data_test.Label)\n",
    "for i in range(len(train_text_ls)):\n",
    "      data_train_ls.append([train_text_ls[i],train_label_ls[i]])\n",
    "for i in range(len(test_text_ls)):\n",
    "      data_test_ls.append([test_text_ls[i],test_label_ls[i]])\n",
    "data_train.head()"
   ]
  },
  {
   "cell_type": "code",
   "execution_count": 14,
   "metadata": {},
   "outputs": [
    {
     "name": "stderr",
     "output_type": "stream",
     "text": [
      "Building prefix dict from the default dictionary ...\n",
      "Loading model from cache C:\\Users\\User\\AppData\\Local\\Temp\\jieba.cache\n"
     ]
    },
    {
     "name": "stdout",
     "output_type": "stream",
     "text": [
      "File Directory: data/total/pos.txt\n",
      "Getting positive sentence 1/500\r"
     ]
    },
    {
     "name": "stderr",
     "output_type": "stream",
     "text": [
      "Loading model cost 0.901 seconds.\n",
      "Prefix dict has been built successfully.\n"
     ]
    },
    {
     "name": "stdout",
     "output_type": "stream",
     "text": [
      "Getting positive sentence 500/500\n",
      "File Directory: data/total/neg.txt\n",
      "Getting negative sentence 500/500\n",
      "Positive Line: 500 | Negative Line: 500\n",
      "Words in Vocabulary: 1385\n"
     ]
    }
   ],
   "source": [
    "batch_size = 64\n",
    "train_data, test_data = train_test_split(load_data(), test_size=0.2)\n",
    "vocabs = get_vocab(train_data)\n",
    "print('Words in Vocabulary: {}'.format(len(vocabs)))\n",
    "train_set = Data.TensorDataset(*preprocess(train_data, vocabs))\n",
    "test_set = Data.TensorDataset(*preprocess(test_data, vocabs))\n",
    "train_iter = Data.DataLoader(train_set, batch_size, shuffle=True)\n",
    "test_iter = Data.DataLoader(test_set, batch_size)"
   ]
  },
  {
   "cell_type": "code",
   "execution_count": 15,
   "metadata": {},
   "outputs": [],
   "source": [
    "class GlobalMaxPool1d(nn.Module): # 用一维池化层实现时序最大池化层\n",
    "    def __init__(self):\n",
    "        super(GlobalMaxPool1d, self).__init__()\n",
    "\n",
    "    def forward(self, x):\n",
    "        # x shape: (batch_size, channel, seq_len)\n",
    "        # return shape: (batch_size, channel, 1)\n",
    "        return F.max_pool1d(x, kernel_size=x.shape[2])\n",
    "\n",
    "\n",
    "class CNN(nn.Module):\n",
    "    def __init__(self, vocab, embed_size, kernel_sizes, num_channels):\n",
    "        super(CNN, self).__init__()\n",
    "        self.embedding = nn.Embedding(len(vocab), embed_size)\n",
    "        # 不参与训练的嵌入层\n",
    "        self.constant_embedding = nn.Embedding(len(vocab), embed_size)\n",
    "        self.dropout = nn.Dropout(0.5)\n",
    "        self.decoder = nn.Linear(sum(num_channels), 2)\n",
    "        # 时序最大池化层没有权重，所以可以共用一个实例\n",
    "        self.pool = GlobalMaxPool1d()\n",
    "        self.convs = nn.ModuleList()  # 创建多个一维卷积层\n",
    "        for c, k in zip(num_channels, kernel_sizes):\n",
    "            self.convs.append(nn.Conv1d(in_channels=2 * embed_size,\n",
    "                                        out_channels=c,\n",
    "                                        kernel_size=k))\n",
    "\n",
    "    def forward(self, inputs):\n",
    "        # 将两个形状是(批量大小, 词数, 词向量维度)的嵌入层的输出按词向量连结\n",
    "        embeddings = torch.cat((\n",
    "            self.embedding(inputs),\n",
    "            self.constant_embedding(inputs)), dim=2)  # (batch, seq_len, 2*embed_size)\n",
    "        # 根据Conv1D要求的输入格式，将词向量维，即一维卷积层的通道维(即词向量那一维)，变换到前一维\n",
    "        embeddings = embeddings.permute(0, 2, 1)\n",
    "        # 对于每个一维卷积层，在时序最大池化后会得到一个形状为(批量大小, 通道大小, 1)的\n",
    "        # Tensor。使用flatten函数去掉最后一维，然后在通道维上连结\n",
    "        encoding = torch.cat([self.pool(F.relu(conv(embeddings))).squeeze(-1) for conv in self.convs], dim=1)\n",
    "        # 应用丢弃法后使用全连接层得到输出\n",
    "        outputs = self.decoder(self.dropout(encoding))\n",
    "        return outputs"
   ]
  },
  {
   "cell_type": "code",
   "execution_count": 16,
   "metadata": {},
   "outputs": [
    {
     "name": "stdout",
     "output_type": "stream",
     "text": [
      "Words Out of Vocabulary: 62\n",
      "Words Out of Vocabulary: 62\n",
      "training on  cpu\n"
     ]
    },
    {
     "name": "stderr",
     "output_type": "stream",
     "text": [
      "100%|██████████| 13/13 [00:52<00:00,  4.06s/it]\n"
     ]
    },
    {
     "name": "stdout",
     "output_type": "stream",
     "text": [
      "epoch 1, loss 0.5925, train acc 0.689, test acc 0.700, time 57.1 sec\n"
     ]
    },
    {
     "name": "stderr",
     "output_type": "stream",
     "text": [
      "100%|██████████| 13/13 [00:45<00:00,  3.48s/it]\n"
     ]
    },
    {
     "name": "stdout",
     "output_type": "stream",
     "text": [
      "epoch 2, loss 0.1633, train acc 0.863, test acc 0.785, time 48.5 sec\n"
     ]
    },
    {
     "name": "stderr",
     "output_type": "stream",
     "text": [
      "100%|██████████| 13/13 [00:42<00:00,  3.25s/it]\n"
     ]
    },
    {
     "name": "stdout",
     "output_type": "stream",
     "text": [
      "epoch 3, loss 0.0669, train acc 0.924, test acc 0.830, time 45.6 sec\n"
     ]
    },
    {
     "name": "stderr",
     "output_type": "stream",
     "text": [
      "100%|██████████| 13/13 [00:42<00:00,  3.27s/it]\n"
     ]
    },
    {
     "name": "stdout",
     "output_type": "stream",
     "text": [
      "epoch 4, loss 0.0266, train acc 0.969, test acc 0.835, time 46.5 sec\n"
     ]
    },
    {
     "name": "stderr",
     "output_type": "stream",
     "text": [
      "100%|██████████| 13/13 [00:43<00:00,  3.37s/it]\n"
     ]
    },
    {
     "name": "stdout",
     "output_type": "stream",
     "text": [
      "epoch 5, loss 0.0111, train acc 0.999, test acc 0.835, time 47.1 sec\n"
     ]
    }
   ],
   "source": [
    "os.environ[\"CUDA_VISIBLE_DEVICES\"] = \"0\"\n",
    "device = torch.device('cuda' if torch.cuda.is_available() else 'cpu')\n",
    "\n",
    "embed_size, kernel_sizes, nums_channels = 300, [3, 4, 5], [300, 300, 300]\n",
    "net = CNN(vocabs, embed_size, kernel_sizes, nums_channels)\n",
    "\n",
    "cache = '.vector_cache'\n",
    "if not os.path.exists(cache):\n",
    "    os.mkdir(cache)\n",
    "glove_vocab = Vocab.Vectors(name='data/sgns.baidubaike.bigram-char', cache=cache)\n",
    "net.embedding.weight.data.copy_(\n",
    "    load_pretrained_embedding(vocabs.itos, glove_vocab))\n",
    "net.constant_embedding.weight.data.copy_(\n",
    "    load_pretrained_embedding(vocabs.itos, glove_vocab))\n",
    "net.constant_embedding.weight.requires_grad = False\n",
    "\n",
    "lr, num_epochs = 0.001, 5\n",
    "optimizer = torch.optim.Adam(filter(lambda p: p.requires_grad, net.parameters()), lr=lr)\n",
    "loss = nn.CrossEntropyLoss()\n",
    "train_acc_ls,test_acc_ls,loss_ls = train(train_iter, test_iter, net, loss, optimizer, device, num_epochs)"
   ]
  },
  {
   "cell_type": "code",
   "execution_count": 17,
   "metadata": {},
   "outputs": [
    {
     "name": "stdout",
     "output_type": "stream",
     "text": [
      "CNN(\n",
      "  (embedding): Embedding(1385, 300)\n",
      "  (constant_embedding): Embedding(1385, 300)\n",
      "  (dropout): Dropout(p=0.5, inplace=False)\n",
      "  (decoder): Linear(in_features=900, out_features=2, bias=True)\n",
      "  (pool): GlobalMaxPool1d()\n",
      "  (convs): ModuleList(\n",
      "    (0): Conv1d(600, 300, kernel_size=(3,), stride=(1,))\n",
      "    (1): Conv1d(600, 300, kernel_size=(4,), stride=(1,))\n",
      "    (2): Conv1d(600, 300, kernel_size=(5,), stride=(1,))\n",
      "  )\n",
      ")\n"
     ]
    }
   ],
   "source": [
    "print(net)"
   ]
  },
  {
   "cell_type": "code",
   "execution_count": 18,
   "metadata": {},
   "outputs": [
    {
     "data": {
      "text/plain": [
       "Text(0, 0.5, 'loss')"
      ]
     },
     "execution_count": 18,
     "metadata": {},
     "output_type": "execute_result"
    },
    {
     "data": {
      "image/png": "[encoded data removed]",
      "text/plain": [
       "<Figure size 720x432 with 1 Axes>"
      ]
     },
     "metadata": {
      "needs_background": "light"
     },
     "output_type": "display_data"
    }
   ],
   "source": [
    "import matplotlib.pyplot as plt\n",
    "plt.figure(figsize=(10,6))\n",
    "x = [*range(1, num_epochs+1, 1)]\n",
    "plt.plot(x, loss_ls, label='loss')\n",
    "plt.legend()\n",
    "plt.xlabel('epochs')\n",
    "plt.ylabel('loss')"
   ]
  },
  {
   "cell_type": "code",
   "execution_count": 19,
   "metadata": {},
   "outputs": [
    {
     "data": {
      "text/plain": [
       "Text(0, 0.5, 'accuracy')"
      ]
     },
     "execution_count": 19,
     "metadata": {},
     "output_type": "execute_result"
    },
    {
     "data": {
      "image/png": "[encoded data removed]",
      "text/plain": [
       "<Figure size 720x432 with 1 Axes>"
      ]
     },
     "metadata": {
      "needs_background": "light"
     },
     "output_type": "display_data"
    }
   ],
   "source": [
    "plt.figure(figsize=(10,6))\n",
    "plt.plot(x, train_acc_ls, label='train accuracy')\n",
    "plt.plot(x, test_acc_ls, label='test accuracy')\n",
    "plt.legend()\n",
    "plt.xlabel('epochs')\n",
    "plt.ylabel('accuracy')"
   ]
  }
 ],
 "metadata": {
  "kernelspec": {
   "display_name": "Python 3.6.8rc1 64-bit",
   "language": "python",
   "name": "python3"
  },
  "language_info": {
   "codemirror_mode": {
    "name": "ipython",
    "version": 3
   },
   "file_extension": ".py",
   "mimetype": "text/x-python",
   "name": "python",
   "nbconvert_exporter": "python",
   "pygments_lexer": "ipython3",
   "version": "3.6.8"
  },
  "orig_nbformat": 4,
  "vscode": {
   "interpreter": {
    "hash": "db9c657620c8578ddfc3d9ba89c38fdc5fd80f960e156f76bd6d1a512183127c"
   }
  }
 },
 "nbformat": 4,
 "nbformat_minor": 2
}
